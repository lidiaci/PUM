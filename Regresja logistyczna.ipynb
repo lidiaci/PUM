{
 "cells": [
  {
   "cell_type": "markdown",
   "metadata": {},
   "source": [
    "# Regresja logistyczna"
   ]
  },
  {
   "cell_type": "code",
   "execution_count": 16,
   "metadata": {},
   "outputs": [],
   "source": [
    "import warnings\n",
    "warnings.filterwarnings(\"ignore\")\n",
    "\n",
    "import math\n",
    "import numpy as np\n",
    "from sklearn.datasets import make_classification, make_moons\n",
    "from sklearn.linear_model import LogisticRegression\n",
    "from sklearn.model_selection import train_test_split\n",
    "from sklearn.metrics import accuracy_score, confusion_matrix, ConfusionMatrixDisplay, recall_score, roc_curve, RocCurveDisplay, auc, balanced_accuracy_score\n",
    "import matplotlib.pyplot as plt\n",
    "import seaborn as sns\n",
    "import pandas as pd\n",
    "from sklearn.preprocessing import MinMaxScaler\n",
    "from sklearn.dummy import DummyClassifier\n",
    "import time"
   ]
  },
  {
   "cell_type": "markdown",
   "metadata": {},
   "source": [
    "### Generowanie zbiorów danych"
   ]
  },
  {
   "cell_type": "code",
   "execution_count": 17,
   "metadata": {},
   "outputs": [],
   "source": [
    "x1, y1 = make_classification(n_samples=2548, n_features=2, n_informative=2, n_redundant=0, n_classes=2, random_state=254448)\n",
    "x2, y2 = make_moons(n_samples=2548, random_state=254448, shuffle=True)"
   ]
  },
  {
   "cell_type": "code",
   "execution_count": 18,
   "metadata": {},
   "outputs": [],
   "source": [
    "x_train1, x_test1, y_train1, y_test1 = train_test_split(x1, y1, random_state=254448, stratify=y1)\n",
    "x_train2, x_test2, y_train2, y_test2 = train_test_split(x2, y2, random_state=254448, stratify=y2)"
   ]
  },
  {
   "cell_type": "code",
   "execution_count": 19,
   "metadata": {},
   "outputs": [],
   "source": [
    "class LogisticRegressionImplementation():\n",
    "    w = None\n",
    "    \n",
    "    \n",
    "    def logit(arg, coefficient):\n",
    "        val = 1/(1+np.exp((-1)*np.matmul(np.reshape(coefficient, (1,-1)), arg)))\n",
    "        return val\n",
    "    \n",
    "    def log_loss(x, y, w):\n",
    "        J = 0\n",
    "        for num in range(len(x)):\n",
    "            prob  = LogisticRegressionImplementation.logit(x[num], w)\n",
    "            J = J + y[num]*math.log(prob) + (1-y[num])*math.log(1-prob)\n",
    "        return -J/(len(x))\n",
    "    \n",
    "    def predict_sample(x, w, level=0.5):\n",
    "        prob = LogisticRegressionImplementation.logit(x, w)\n",
    "        if prob>=level:\n",
    "            return 1\n",
    "        return 0\n",
    "    \n",
    "    def fit(self, x, y, eta=0.01, n_iter=9990000, level=0.5, error=0.35, starting_point=1):\n",
    "        self.level = level\n",
    "        sample_iter = 0\n",
    "        n = len(x)\n",
    "        #dodawanie bias\n",
    "        x = np.concatenate([np.ones((n, 1)), x], axis=1)\n",
    "        w = np.array([starting_point for i in range(x.shape[1])])\n",
    "        for i in range(0,n_iter):\n",
    "            \n",
    "            if i%10000 == 0:\n",
    "                er = LogisticRegressionImplementation.log_loss(x, y, w)\n",
    "                print(i, ':', er)\n",
    "                if er<error:\n",
    "                    print(er)\n",
    "                    self.w = w\n",
    "                    return w\n",
    "                \n",
    "            sample_iter = i % n\n",
    "            w = w+eta*(y[sample_iter]-LogisticRegressionImplementation.predict_sample(x[sample_iter].reshape(-1,1),w))*LogisticRegressionImplementation.logit(x[sample_iter], w)*(1-LogisticRegressionImplementation.logit(x[sample_iter], w))*x[sample_iter]\n",
    "        self.w = w\n",
    "        return w\n",
    "    \n",
    "    def predict(self, x):\n",
    "        n = len(x)\n",
    "        x = np.concatenate([np.ones((n, 1)), x], axis=1)\n",
    "        result = []\n",
    "        for i in x:\n",
    "            result.append(LogisticRegressionImplementation.predict_sample(i, self.w, self.level))\n",
    "        return np.array(result)\n",
    "    "
   ]
  },
  {
   "cell_type": "markdown",
   "metadata": {},
   "source": [
    "## Porównanie własnej implementacji z klasyfikatorem z sklearn"
   ]
  },
  {
   "cell_type": "markdown",
   "metadata": {},
   "source": [
    "### Własny klasyfikator"
   ]
  },
  {
   "cell_type": "markdown",
   "metadata": {},
   "source": [
    "Zbiór make_classification"
   ]
  },
  {
   "cell_type": "code",
   "execution_count": 20,
   "metadata": {},
   "outputs": [
    {
     "name": "stdout",
     "output_type": "stream",
     "text": [
      "0 : 0.5846201034880085\n"
     ]
    },
    {
     "name": "stdout",
     "output_type": "stream",
     "text": [
      "10000 : 0.5806092171456588\n",
      "20000 : 0.5765769489829385\n",
      "30000 : 0.5725567858974909\n",
      "40000 : 0.5685222104377242\n",
      "50000 : 0.5644727309155282\n",
      "60000 : 0.5604897027966513\n",
      "70000 : 0.5564627559994928\n",
      "80000 : 0.5524647323165309\n",
      "90000 : 0.5484682708876943\n",
      "100000 : 0.5445471662381337\n",
      "110000 : 0.5406245421664242\n",
      "120000 : 0.5367522441835231\n",
      "130000 : 0.5328983040830295\n",
      "140000 : 0.5291011324104218\n",
      "150000 : 0.5253483641116865\n",
      "160000 : 0.5216187919602687\n",
      "170000 : 0.5178998211872745\n",
      "180000 : 0.51419630360945\n",
      "190000 : 0.5105714747227353\n",
      "200000 : 0.5069420743688291\n",
      "210000 : 0.5033701056644344\n",
      "220000 : 0.4998276242090358\n",
      "230000 : 0.49637507078580695\n",
      "240000 : 0.49293875416522104\n",
      "250000 : 0.4896418693729521\n",
      "260000 : 0.48639675950444156\n",
      "270000 : 0.48325428319708724\n",
      "280000 : 0.48019020853040695\n",
      "290000 : 0.4772555368365921\n",
      "300000 : 0.4743583574785306\n",
      "310000 : 0.47155825616707\n",
      "320000 : 0.46885330348000315\n",
      "330000 : 0.4662649028207675\n",
      "340000 : 0.46381172426365175\n",
      "350000 : 0.46141791357201356\n",
      "360000 : 0.45913264093970074\n",
      "370000 : 0.45697561946589965\n",
      "380000 : 0.4549166177938864\n",
      "390000 : 0.4529376009585695\n",
      "400000 : 0.4510358377137977\n",
      "410000 : 0.4492253966216059\n",
      "420000 : 0.44747526546369276\n",
      "430000 : 0.4457970709143651\n",
      "440000 : 0.44416196034394007\n",
      "450000 : 0.44260635780413476\n",
      "460000 : 0.44106850988679486\n",
      "470000 : 0.4395763885829623\n",
      "480000 : 0.43815156169381164\n",
      "490000 : 0.4368042756332059\n",
      "500000 : 0.43549468611217373\n",
      "510000 : 0.43421894840942044\n",
      "520000 : 0.4330202159648693\n",
      "530000 : 0.43186413412254504\n",
      "540000 : 0.43073908893699125\n",
      "550000 : 0.4296382084759983\n",
      "560000 : 0.42854554761095115\n",
      "570000 : 0.4274739658126294\n",
      "580000 : 0.42642981153150944\n",
      "590000 : 0.425404151604334\n",
      "600000 : 0.42438808922870735\n",
      "610000 : 0.4234342725602892\n",
      "620000 : 0.4225093813625422\n",
      "630000 : 0.42161498548449133\n",
      "640000 : 0.4207326011751326\n",
      "650000 : 0.4198819296505482\n",
      "660000 : 0.41905539313176093\n",
      "670000 : 0.4182444421078169\n",
      "680000 : 0.41745729427156053\n",
      "690000 : 0.4166821220550247\n",
      "700000 : 0.4159383928945774\n",
      "710000 : 0.4152193073082945\n",
      "720000 : 0.41451295961374274\n",
      "730000 : 0.41380188371610194\n",
      "740000 : 0.41311882632065605\n",
      "750000 : 0.41244369623994864\n",
      "760000 : 0.4118056255450028\n",
      "770000 : 0.4111775436729025\n",
      "780000 : 0.4105639962176618\n",
      "790000 : 0.4099580753975974\n",
      "800000 : 0.40936275358922514\n",
      "810000 : 0.4087810924003102\n",
      "820000 : 0.4081980504983868\n",
      "830000 : 0.40763115975269565\n",
      "840000 : 0.40706940614394993\n",
      "850000 : 0.40652357084323243\n",
      "860000 : 0.40596990296178653\n",
      "870000 : 0.405427974739309\n",
      "880000 : 0.40490630912450687\n",
      "890000 : 0.4044022540129431\n",
      "900000 : 0.40389662240916546\n",
      "910000 : 0.40339649033765856\n",
      "920000 : 0.40290037959009406\n",
      "930000 : 0.402415620132568\n",
      "940000 : 0.40193551531261673\n",
      "950000 : 0.40146009893020895\n",
      "960000 : 0.40098684075058827\n",
      "970000 : 0.40052242682082895\n",
      "980000 : 0.40008952441572354\n",
      "990000 : 0.3996521488710441\n",
      "1000000 : 0.3992373187264272\n",
      "1010000 : 0.398838405166829\n",
      "1020000 : 0.3984462629832757\n",
      "1030000 : 0.39805108079230345\n",
      "1040000 : 0.3976709747995029\n",
      "1050000 : 0.3972948229863819\n",
      "1060000 : 0.3969354230364374\n",
      "1070000 : 0.3965764736795561\n",
      "1080000 : 0.3962337635475712\n",
      "1090000 : 0.3958945237172031\n",
      "1100000 : 0.3955544644273672\n",
      "1110000 : 0.395225803567576\n",
      "1120000 : 0.3948946960451449\n",
      "1130000 : 0.3945676335026843\n",
      "1140000 : 0.3942387804663289\n",
      "1150000 : 0.39391702218783387\n",
      "1160000 : 0.3935874885138274\n",
      "1170000 : 0.3932727698208195\n",
      "1180000 : 0.39295466347095775\n",
      "1190000 : 0.3926490106956168\n",
      "1200000 : 0.3923412927817217\n",
      "1210000 : 0.3920562604969794\n",
      "1220000 : 0.39177952546480516\n",
      "1230000 : 0.39151086158953496\n",
      "1240000 : 0.3912413363493674\n",
      "1250000 : 0.39098084520184084\n",
      "1260000 : 0.3907186330553061\n",
      "1270000 : 0.39046634338880387\n",
      "1280000 : 0.39021920501846863\n",
      "1290000 : 0.38996341649714555\n",
      "1300000 : 0.38971919197804744\n",
      "1310000 : 0.38946924033150476\n",
      "1320000 : 0.38922961379601495\n",
      "1330000 : 0.38897989997429266\n",
      "1340000 : 0.3887477235781649\n",
      "1350000 : 0.38850795007360256\n",
      "1360000 : 0.38827840862433005\n",
      "1370000 : 0.38804435849391405\n",
      "1380000 : 0.38782089599474256\n",
      "1390000 : 0.38760147477681073\n",
      "1400000 : 0.38739998913987994\n",
      "1410000 : 0.38720055869071196\n",
      "1420000 : 0.38700803432013137\n",
      "1430000 : 0.38682429566522725\n",
      "1440000 : 0.38664161448485435\n",
      "1450000 : 0.38646758250465363\n",
      "1460000 : 0.38628775598350473\n",
      "1470000 : 0.38612013317524635\n",
      "1480000 : 0.38594206515606283\n",
      "1490000 : 0.3857811652637479\n",
      "1500000 : 0.38560610245044885\n",
      "1510000 : 0.3854442990045585\n",
      "1520000 : 0.38528126940320395\n",
      "1530000 : 0.3851290481871129\n",
      "1540000 : 0.3849708224808995\n",
      "1550000 : 0.38482121730394514\n",
      "1560000 : 0.3846692588525097\n",
      "1570000 : 0.384525936007855\n",
      "1580000 : 0.3843917175873146\n",
      "1590000 : 0.3842524753031998\n",
      "1600000 : 0.3841214960533922\n",
      "1610000 : 0.38398282834691944\n",
      "1620000 : 0.3838568325591606\n",
      "1630000 : 0.38371873641187204\n",
      "1640000 : 0.38359367606450656\n",
      "1650000 : 0.3834645153305312\n",
      "1660000 : 0.38334685677778907\n",
      "1670000 : 0.3832205368703783\n",
      "1680000 : 0.3831044323836158\n",
      "1690000 : 0.3829826592660883\n",
      "1700000 : 0.3828700501976377\n",
      "1710000 : 0.38276055821772165\n",
      "1720000 : 0.38265485390827164\n",
      "1730000 : 0.3825537920879508\n",
      "1740000 : 0.3824502273792953\n",
      "1750000 : 0.3823531098211527\n",
      "1760000 : 0.38224853611224374\n",
      "1770000 : 0.3821550283125539\n",
      "1780000 : 0.3820515236785208\n",
      "1790000 : 0.38196028224021306\n",
      "1800000 : 0.3818620310474434\n",
      "1810000 : 0.3817813300170326\n",
      "1820000 : 0.3816925968229434\n",
      "1830000 : 0.3816176441563546\n",
      "1840000 : 0.38153589448137165\n",
      "1850000 : 0.381456554779878\n",
      "1860000 : 0.381376537273171\n",
      "1870000 : 0.381299800940554\n",
      "1880000 : 0.3812271975785561\n",
      "1890000 : 0.38114841113778436\n",
      "1900000 : 0.38107949379534384\n",
      "1910000 : 0.38100065888087037\n",
      "1920000 : 0.38094108842582086\n",
      "1930000 : 0.38086722835417697\n",
      "1940000 : 0.3808066866255475\n",
      "1950000 : 0.3807358790306993\n",
      "1960000 : 0.3806780940539639\n",
      "1970000 : 0.3806125626088185\n",
      "1980000 : 0.3805563608135135\n",
      "1990000 : 0.380493582381832\n",
      "2000000 : 0.38043747568056374\n",
      "2010000 : 0.3803863743592766\n",
      "2020000 : 0.38033038269032565\n",
      "2030000 : 0.3802829772628696\n",
      "2040000 : 0.3802246328685551\n",
      "2050000 : 0.38018123913616364\n",
      "2060000 : 0.3801311730679923\n",
      "2070000 : 0.38009379291846146\n",
      "2080000 : 0.3800457447705309\n",
      "2090000 : 0.38000701862938085\n",
      "2100000 : 0.3799590565726087\n",
      "0.3799590565726087\n"
     ]
    },
    {
     "data": {
      "text/plain": [
       "array([0.40258461, 1.24426791, 0.49045605])"
      ]
     },
     "execution_count": 20,
     "metadata": {},
     "output_type": "execute_result"
    }
   ],
   "source": [
    "log = LogisticRegressionImplementation()\n",
    "log.fit(x_train1, y_train1, eta=0.00001, error=0.38)"
   ]
  },
  {
   "cell_type": "code",
   "execution_count": 21,
   "metadata": {},
   "outputs": [],
   "source": [
    "y_pred1 = log.predict(x_test1)"
   ]
  },
  {
   "cell_type": "code",
   "execution_count": 22,
   "metadata": {},
   "outputs": [
    {
     "data": {
      "text/plain": [
       "0.8571428571428571"
      ]
     },
     "execution_count": 22,
     "metadata": {},
     "output_type": "execute_result"
    },
    {
     "data": {
      "image/png": "[encoded data removed]",
      "text/plain": [
       "<Figure size 432x288 with 2 Axes>"
      ]
     },
     "metadata": {
      "needs_background": "light"
     },
     "output_type": "display_data"
    }
   ],
   "source": [
    "acc1 = accuracy_score(y_test1, y_pred1)\n",
    "cm1 = confusion_matrix(y_test1, y_pred1)\n",
    "disp = ConfusionMatrixDisplay(confusion_matrix=cm1)\n",
    "disp.plot()\n",
    "\n",
    "sensitivity = recall_score(y_test1, y_pred1)\n",
    "specificity = cm1[0][0]/(cm1[0][0]+cm1[0][1])\n",
    "\n",
    "acc1"
   ]
  },
  {
   "cell_type": "code",
   "execution_count": 23,
   "metadata": {},
   "outputs": [],
   "source": [
    "log_s = LogisticRegression()\n",
    "log_s.fit(x_train1,y_train1)\n",
    "y_pred2 = log_s.predict(x_test1)"
   ]
  },
  {
   "cell_type": "code",
   "execution_count": 24,
   "metadata": {},
   "outputs": [
    {
     "data": {
      "text/plain": [
       "0.8932496075353218"
      ]
     },
     "execution_count": 24,
     "metadata": {},
     "output_type": "execute_result"
    },
    {
     "data": {
      "image/png": "[encoded data removed]",
      "text/plain": [
       "<Figure size 432x288 with 2 Axes>"
      ]
     },
     "metadata": {
      "needs_background": "light"
     },
     "output_type": "display_data"
    }
   ],
   "source": [
    "acc2 = accuracy_score(y_test1, y_pred2)\n",
    "cm2 = confusion_matrix(y_test1, y_pred2)\n",
    "disp2 = ConfusionMatrixDisplay(confusion_matrix=cm2)\n",
    "disp2.plot()\n",
    "\n",
    "\n",
    "sensitivity2 = recall_score(y_test1, y_pred2)\n",
    "specificity2 = cm2[0][0]/(cm2[0][0]+cm2[0][1])\n",
    "\n",
    "acc2"
   ]
  },
  {
   "cell_type": "markdown",
   "metadata": {},
   "source": [
    "Zbiór make_moons"
   ]
  },
  {
   "cell_type": "code",
   "execution_count": 25,
   "metadata": {},
   "outputs": [
    {
     "name": "stdout",
     "output_type": "stream",
     "text": [
      "0 : 1.1299431013431604\n",
      "10000 : 1.1079115535203143\n",
      "20000 : 1.0851622491797082\n",
      "30000 : 1.0618529935546381\n",
      "40000 : 1.0376832509450082\n",
      "50000 : 1.0129150660223463\n",
      "60000 : 0.987268585650931\n",
      "70000 : 0.9610638945026463\n",
      "80000 : 0.9339689847823377\n",
      "90000 : 0.9062198653506766\n",
      "100000 : 0.8777419195147997\n",
      "110000 : 0.848622679416249\n",
      "120000 : 0.8189830980315678\n",
      "130000 : 0.788802794769402\n",
      "140000 : 0.7584124002665542\n",
      "150000 : 0.7278316948492685\n",
      "160000 : 0.6974813068615483\n",
      "170000 : 0.6674492210020678\n",
      "180000 : 0.6404239903892694\n",
      "190000 : 0.6188385455190749\n",
      "200000 : 0.6005925935237594\n",
      "210000 : 0.5848742392891628\n",
      "220000 : 0.5713129613073292\n",
      "230000 : 0.5596068382976285\n",
      "240000 : 0.549577511739611\n",
      "250000 : 0.5411694172914288\n",
      "260000 : 0.5341011125150579\n",
      "270000 : 0.5279528876981906\n",
      "280000 : 0.5227673034391176\n",
      "290000 : 0.5185565222793506\n",
      "300000 : 0.5151902011833456\n",
      "310000 : 0.5125402987198336\n",
      "320000 : 0.5102560260486291\n",
      "330000 : 0.5084154137870347\n",
      "340000 : 0.5069320829220716\n",
      "350000 : 0.5057939929084178\n",
      "360000 : 0.504886931784084\n",
      "370000 : 0.5042056758932356\n",
      "380000 : 0.5036819466376234\n",
      "390000 : 0.5033230559760198\n",
      "400000 : 0.5030451730091814\n",
      "410000 : 0.502849262785704\n",
      "0.502849262785704\n"
     ]
    },
    {
     "data": {
      "text/plain": [
       "array([ 0.15636798,  0.10365165, -1.0642499 ])"
      ]
     },
     "execution_count": 25,
     "metadata": {},
     "output_type": "execute_result"
    }
   ],
   "source": [
    "log_moons = LogisticRegressionImplementation()\n",
    "log_moons.fit(x_train2, y_train2, eta=0.00005, starting_point=-1, error=0.503)"
   ]
  },
  {
   "cell_type": "code",
   "execution_count": 26,
   "metadata": {},
   "outputs": [
    {
     "data": {
      "text/plain": [
       "0.8681318681318682"
      ]
     },
     "execution_count": 26,
     "metadata": {},
     "output_type": "execute_result"
    },
    {
     "data": {
      "image/png": "[encoded data removed]",
      "text/plain": [
       "<Figure size 432x288 with 2 Axes>"
      ]
     },
     "metadata": {
      "needs_background": "light"
     },
     "output_type": "display_data"
    }
   ],
   "source": [
    "y_pred_moons = log_moons.predict(x_test2)\n",
    "acc_moons = accuracy_score(y_test2, y_pred_moons)\n",
    "cm_moons = confusion_matrix(y_test2, y_pred_moons)\n",
    "disp_moons = ConfusionMatrixDisplay(confusion_matrix=cm_moons)\n",
    "disp_moons.plot()\n",
    "\n",
    "sensitivity_moons = recall_score(y_test2, y_pred_moons)\n",
    "specificity_moons = cm_moons[0][0]/(cm_moons[0][0]+cm_moons[0][1])\n",
    "\n",
    "acc_moons"
   ]
  },
  {
   "cell_type": "code",
   "execution_count": 27,
   "metadata": {},
   "outputs": [],
   "source": [
    "log_moons_sk = LogisticRegression()\n",
    "log_moons_sk.fit(x_train2,y_train2)\n",
    "y_pred_moons2 = log_moons_sk.predict(x_test2)"
   ]
  },
  {
   "cell_type": "code",
   "execution_count": 28,
   "metadata": {},
   "outputs": [
    {
     "data": {
      "text/plain": [
       "0.8948194662480377"
      ]
     },
     "execution_count": 28,
     "metadata": {},
     "output_type": "execute_result"
    },
    {
     "data": {
      "image/png": "[encoded data removed]",
      "text/plain": [
       "<Figure size 432x288 with 2 Axes>"
      ]
     },
     "metadata": {
      "needs_background": "light"
     },
     "output_type": "display_data"
    }
   ],
   "source": [
    "acc_moons2 = accuracy_score(y_test2, y_pred_moons2)\n",
    "cm_moons2 = confusion_matrix(y_test2, y_pred_moons2)\n",
    "disp_moons2 = ConfusionMatrixDisplay(confusion_matrix=cm_moons2)\n",
    "disp_moons2.plot()\n",
    "\n",
    "\n",
    "sensitivity_moons2 = recall_score(y_test2, y_pred_moons2)\n",
    "specificity_moons2 = cm_moons2[0][0]/(cm_moons2[0][0]+cm_moons2[0][1])\n",
    "\n",
    "acc_moons2"
   ]
  },
  {
   "cell_type": "code",
   "execution_count": 29,
   "metadata": {},
   "outputs": [
    {
     "name": "stdout",
     "output_type": "stream",
     "text": [
      "zbiór make_classification:\n",
      "własna implementacja:\n",
      "accuracy: 0.8571428571428571\n",
      "sensitivity: 0.9404388714733543\n",
      "specificity: 0.7735849056603774\n",
      "\n",
      "\n",
      "implementacja z sklearn:\n",
      "accuracy: 0.8932496075353218\n",
      "sensitivity: 0.8934169278996865\n",
      "specificity: 0.8930817610062893\n",
      "\n",
      "\n",
      "zbiór make_moons:\n",
      "własna implementacja:\n",
      "accuracy: 0.8681318681318682\n",
      "sensitivity: 0.8307210031347962\n",
      "specificity: 0.9056603773584906\n",
      "\n",
      "\n",
      "implementacja z sklearn:\n",
      "accuracy: 0.8948194662480377\n",
      "sensitivity: 0.8808777429467085\n",
      "specificity: 0.9088050314465409\n",
      "\n",
      "\n"
     ]
    }
   ],
   "source": [
    "print('zbiór make_classification:')\n",
    "print('własna implementacja:')\n",
    "print('accuracy:',acc1)\n",
    "print('sensitivity:',sensitivity)\n",
    "print('specificity:',specificity)\n",
    "print('\\n')\n",
    "print('implementacja z sklearn:')\n",
    "print('accuracy:', acc2)\n",
    "print('sensitivity:',sensitivity2)\n",
    "print('specificity:',specificity2)\n",
    "print('\\n')\n",
    "print('zbiór make_moons:')\n",
    "print('własna implementacja:')\n",
    "print('accuracy:',acc_moons)\n",
    "print('sensitivity:',sensitivity_moons)\n",
    "print('specificity:',specificity_moons)\n",
    "print('\\n')\n",
    "print('implementacja z sklearn:')\n",
    "print('accuracy:', acc_moons2)\n",
    "print('sensitivity:',sensitivity_moons2)\n",
    "print('specificity:',specificity_moons2)\n",
    "print('\\n')"
   ]
  },
  {
   "cell_type": "markdown",
   "metadata": {},
   "source": [
    "Na zbiorze make_classification klasyfikator z sklearn radzi sobie lepiej pod względem accuracy. Jednakże, własna implementacja radzi sobie lepiej z klasyfikacją pozytywnych przypadków. Implementacja z sklearn radzi sobie lepiej z klasyfikacją negatywnych przypadków ze zbioru make_classification.\n",
    "\n",
    "Na ziobrze make_moons lepiej radzi sobie klasyfikator z sklearn. Ma lepsze accuracy, specificity oraz sensitivity."
   ]
  },
  {
   "cell_type": "code",
   "execution_count": 30,
   "metadata": {},
   "outputs": [
    {
     "name": "stdout",
     "output_type": "stream",
     "text": [
      "0 : 0.5846201034880085\n",
      "0 : 0.5846201034880085\n",
      "0 : 0.5846201034880085\n",
      "0 : 0.5846201034880085\n",
      "0 : 0.5846201034880085\n",
      "0 : 0.5846201034880085\n",
      "0 : 0.5846201034880085\n",
      "0 : 0.5846201034880085\n",
      "0 : 0.5846201034880085\n",
      "0 : 0.5846201034880085\n",
      "0 : 0.5846201034880085\n",
      "0 : 0.5846201034880085\n",
      "0 : 0.5846201034880085\n",
      "0 : 0.5846201034880085\n",
      "0 : 0.5846201034880085\n",
      "0 : 0.5846201034880085\n",
      "0 : 0.5846201034880085\n",
      "0 : 0.5846201034880085\n",
      "0 : 0.5846201034880085\n",
      "0 : 0.5846201034880085\n",
      "0 : 0.5846201034880085\n",
      "0 : 0.5846201034880085\n",
      "0 : 0.5846201034880085\n",
      "0 : 0.5846201034880085\n",
      "0 : 0.5846201034880085\n",
      "0 : 0.5846201034880085\n",
      "0 : 0.5846201034880085\n",
      "0 : 0.5846201034880085\n",
      "0 : 0.5846201034880085\n",
      "0 : 0.5846201034880085\n",
      "0 : 0.5846201034880085\n",
      "0 : 0.5846201034880085\n",
      "0 : 0.5846201034880085\n",
      "0 : 0.5846201034880085\n",
      "0 : 0.5846201034880085\n",
      "0 : 0.5846201034880085\n",
      "0 : 0.5846201034880085\n",
      "0 : 0.5846201034880085\n",
      "0 : 0.5846201034880085\n",
      "0 : 0.5846201034880085\n",
      "0 : 0.5846201034880085\n",
      "0 : 0.5846201034880085\n",
      "0 : 0.5846201034880085\n",
      "0 : 0.5846201034880085\n",
      "0 : 0.5846201034880085\n",
      "0 : 0.5846201034880085\n",
      "0 : 0.5846201034880085\n",
      "0 : 0.5846201034880085\n",
      "0 : 0.5846201034880085\n",
      "0 : 0.5846201034880085\n",
      "0 : 0.5846201034880085\n",
      "0 : 0.5846201034880085\n",
      "0 : 0.5846201034880085\n",
      "0 : 0.5846201034880085\n",
      "0 : 0.5846201034880085\n",
      "0 : 0.5846201034880085\n",
      "0 : 0.5846201034880085\n",
      "0 : 0.5846201034880085\n",
      "0 : 0.5846201034880085\n",
      "0 : 0.5846201034880085\n",
      "0 : 0.5846201034880085\n",
      "0 : 0.5846201034880085\n",
      "0 : 0.5846201034880085\n",
      "0 : 0.5846201034880085\n",
      "0 : 0.5846201034880085\n",
      "0 : 0.5846201034880085\n",
      "0 : 0.5846201034880085\n",
      "0 : 0.5846201034880085\n",
      "0 : 0.5846201034880085\n",
      "0 : 0.5846201034880085\n",
      "0 : 0.5846201034880085\n",
      "0 : 0.5846201034880085\n",
      "0 : 0.5846201034880085\n",
      "0 : 0.5846201034880085\n",
      "0 : 0.5846201034880085\n",
      "0 : 0.5846201034880085\n",
      "0 : 0.5846201034880085\n",
      "0 : 0.5846201034880085\n",
      "0 : 0.5846201034880085\n",
      "0 : 0.5846201034880085\n",
      "0 : 0.5846201034880085\n",
      "0 : 0.5846201034880085\n",
      "0 : 0.5846201034880085\n",
      "0 : 0.5846201034880085\n",
      "0 : 0.5846201034880085\n",
      "0 : 0.5846201034880085\n",
      "0 : 0.5846201034880085\n",
      "0 : 0.5846201034880085\n",
      "0 : 0.5846201034880085\n",
      "0 : 0.5846201034880085\n",
      "0 : 0.5846201034880085\n",
      "0 : 0.5846201034880085\n",
      "0 : 0.5846201034880085\n",
      "0 : 0.5846201034880085\n",
      "0 : 0.5846201034880085\n",
      "0 : 0.5846201034880085\n",
      "0 : 0.5846201034880085\n",
      "0 : 0.5846201034880085\n",
      "0 : 0.5846201034880085\n",
      "0 : 0.5846201034880085\n",
      "czas wykonania dla własnej implementacji i 200 iteracji: 3.6770846843719482\n"
     ]
    }
   ],
   "source": [
    "start1 = time.time()\n",
    "cl_time = LogisticRegressionImplementation()\n",
    "for i in range(100):\n",
    "    cl_time.fit(x_train1, y_train1, n_iter=200)\n",
    "    cl_time.predict(x_test1)\n",
    "end1 = time.time()\n",
    "print('czas wykonania dla własnej implementacji i 200 iteracji:', end1-start1)"
   ]
  },
  {
   "cell_type": "code",
   "execution_count": 31,
   "metadata": {},
   "outputs": [
    {
     "name": "stdout",
     "output_type": "stream",
     "text": [
      "czas wykonania dla implementacji z sklearn: 0.20841121673583984\n"
     ]
    }
   ],
   "source": [
    "start2 = time.time()\n",
    "cl_time2 = LogisticRegression()\n",
    "for i in range(100):\n",
    "    cl_time2.fit(x_train1, y_train1)\n",
    "    cl_time2.predict(x_test1)\n",
    "end2 = time.time()\n",
    "print('czas wykonania dla implementacji z sklearn:', end2-start2)"
   ]
  },
  {
   "cell_type": "markdown",
   "metadata": {},
   "source": [
    "Implementacja z sklearn jest znacznie szybsza."
   ]
  },
  {
   "cell_type": "code",
   "execution_count": 32,
   "metadata": {},
   "outputs": [
    {
     "data": {
      "image/png": "[encoded data removed]",
      "text/plain": [
       "<Figure size 432x288 with 1 Axes>"
      ]
     },
     "metadata": {
      "needs_background": "light"
     },
     "output_type": "display_data"
    },
    {
     "data": {
      "image/png": "[encoded data removed]",
      "text/plain": [
       "<Figure size 432x288 with 1 Axes>"
      ]
     },
     "metadata": {
      "needs_background": "light"
     },
     "output_type": "display_data"
    }
   ],
   "source": [
    "x_test1_auc = np.concatenate([np.ones((len(x_test1), 1)), x_test1], axis=1)\n",
    "\n",
    "y_roc_i = [LogisticRegressionImplementation.logit(i, log.w) for i in x_test1_auc]\n",
    "y_roc_s = log_s.decision_function(x_test1)\n",
    "\n",
    "fpr_i, tpr_i, tresholds_i = roc_curve(y_test1, y_roc_i)\n",
    "fpr_s, tpr_s, tresholds_s = roc_curve(y_test1, y_roc_s)\n",
    "auc_i = auc(fpr_i, tpr_i)\n",
    "auc_s = auc(fpr_s, tpr_s)\n",
    "\n",
    "display_i = RocCurveDisplay(fpr=fpr_i, tpr=tpr_i, roc_auc=auc_i, estimator_name='Własna implementacja regresji logistycznej', pos_label=1)\n",
    "display_s = RocCurveDisplay(fpr=fpr_s, tpr=tpr_s, roc_auc=auc_s, estimator_name='Implementacja regresji logistycznej z sklearn', pos_label=1)\n",
    "display_i.plot()\n",
    "display_s.plot()\n",
    "plt.show()"
   ]
  },
  {
   "cell_type": "markdown",
   "metadata": {},
   "source": [
    "Implementacja regresji logistycznej z sklearn uzyskała wyższy wynik AUC na zbiorze make_classification."
   ]
  },
  {
   "cell_type": "code",
   "execution_count": 33,
   "metadata": {},
   "outputs": [
    {
     "data": {
      "image/png": "[encoded data removed]",
      "text/plain": [
       "<Figure size 432x288 with 1 Axes>"
      ]
     },
     "metadata": {
      "needs_background": "light"
     },
     "output_type": "display_data"
    },
    {
     "data": {
      "image/png": "[encoded data removed]",
      "text/plain": [
       "<Figure size 432x288 with 1 Axes>"
      ]
     },
     "metadata": {
      "needs_background": "light"
     },
     "output_type": "display_data"
    }
   ],
   "source": [
    "x_test2_auc = np.concatenate([np.ones((len(x_test2), 1)), x_test2], axis=1)\n",
    "\n",
    "y_roc_i = [LogisticRegressionImplementation.logit(i, log_moons.w) for i in x_test2_auc]\n",
    "y_roc_s = log_moons_sk.decision_function(x_test2)\n",
    "\n",
    "fpr_i, tpr_i, tresholds_i = roc_curve(y_test2, y_roc_i)\n",
    "fpr_s, tpr_s, tresholds_s = roc_curve(y_test2, y_roc_s)\n",
    "auc_i = auc(fpr_i, tpr_i)\n",
    "auc_s = auc(fpr_s, tpr_s)\n",
    "\n",
    "display_i = RocCurveDisplay(fpr=fpr_i, tpr=tpr_i, roc_auc=auc_i, estimator_name='Własna implementacja regresji logistycznej', pos_label=1)\n",
    "display_s = RocCurveDisplay(fpr=fpr_s, tpr=tpr_s, roc_auc=auc_s, estimator_name='Implementacja regresji logistycznej z sklearn', pos_label=1)\n",
    "display_i.plot()\n",
    "display_s.plot()\n",
    "plt.show()"
   ]
  },
  {
   "cell_type": "markdown",
   "metadata": {},
   "source": [
    "Implementacja regresji logistycznej z sklearn otrzymała lepszy wynik dla AUC na zbiorze make_moons. "
   ]
  },
  {
   "cell_type": "code",
   "execution_count": 34,
   "metadata": {},
   "outputs": [],
   "source": [
    "x = np.linspace(-5, 5, 1000)\n",
    "y = np.linspace(-5, 5, 1000)\n",
    "\n",
    "X, Y = np.meshgrid(x,y)\n",
    "\n",
    "\n",
    "Z = []\n",
    "\n",
    "for i in range(len(X)):\n",
    "    for j in range(len(Y)):\n",
    "        Z.append(1 if LogisticRegressionImplementation.logit([1,X[i,j], Y[i,j]], log.w) >= 0.5 else 0)\n",
    "        \n",
    "        \n",
    "Z = np.reshape(Z, X.shape)"
   ]
  },
  {
   "cell_type": "code",
   "execution_count": 35,
   "metadata": {},
   "outputs": [
    {
     "data": {
      "image/png": "[encoded data removed]",
      "text/plain": [
       "<Figure size 432x288 with 1 Axes>"
      ]
     },
     "metadata": {
      "needs_background": "light"
     },
     "output_type": "display_data"
    }
   ],
   "source": [
    "plt.scatter(x1[:,0][y1==0], x1[:,1][y1==0], label='Klasa 0')\n",
    "plt.scatter(x1[:,0][y1==1], x1[:,1][y1==1], label='Klasa 1')\n",
    "plt.legend()\n",
    "plt.contourf(X, Y, Z, alpha=0.3)\n",
    "plt.title('Powierzchnia decyzyjna dla własnej implementacji regresji logistycznej dla zbioru make_classification')\n",
    "plt.show()"
   ]
  },
  {
   "cell_type": "code",
   "execution_count": 36,
   "metadata": {},
   "outputs": [],
   "source": [
    "Z_s = []\n",
    "\n",
    "for i in range(len(X)):\n",
    "    for j in range(len(Y)):\n",
    "        Z_s.append(log_s.predict([[X[i,j], Y[i,j]]]))\n",
    "        \n",
    "        \n",
    "Z_s = np.reshape(Z_s, X.shape)"
   ]
  },
  {
   "cell_type": "code",
   "execution_count": 37,
   "metadata": {},
   "outputs": [
    {
     "data": {
      "image/png": "[encoded data removed]",
      "text/plain": [
       "<Figure size 432x288 with 1 Axes>"
      ]
     },
     "metadata": {
      "needs_background": "light"
     },
     "output_type": "display_data"
    }
   ],
   "source": [
    "plt.scatter(x1[:,0][y1==0], x1[:,1][y1==0], label='Klasa 0')\n",
    "plt.scatter(x1[:,0][y1==1], x1[:,1][y1==1], label='Klasa 1')\n",
    "plt.legend()\n",
    "plt.contourf(X, Y, Z_s, alpha=0.3)\n",
    "plt.title('Powierzchnia decyzyjna dla implementacji regresji logistycznej z sklearn dla zbioru make_classification')\n",
    "plt.show()"
   ]
  },
  {
   "cell_type": "code",
   "execution_count": 38,
   "metadata": {},
   "outputs": [],
   "source": [
    "Z_moons = []\n",
    "\n",
    "for i in range(len(X)):\n",
    "    for j in range(len(Y)):\n",
    "        Z_moons.append(1 if LogisticRegressionImplementation.logit([1,X[i,j], Y[i,j]], log_moons.w) >= 0.5 else 0)\n",
    "        \n",
    "Z_moons = np.reshape(Z_moons, X.shape)"
   ]
  },
  {
   "cell_type": "code",
   "execution_count": 39,
   "metadata": {},
   "outputs": [
    {
     "data": {
      "image/png": "[encoded data removed]",
      "text/plain": [
       "<Figure size 432x288 with 1 Axes>"
      ]
     },
     "metadata": {
      "needs_background": "light"
     },
     "output_type": "display_data"
    }
   ],
   "source": [
    "plt.scatter(x2[:,0][y2==0], x2[:,1][y2==0], label='Klasa 0')\n",
    "plt.scatter(x2[:,0][y2==1], x2[:,1][y2==1], label='Klasa 1')\n",
    "plt.legend()\n",
    "plt.contourf(X, Y, Z_moons, alpha=0.3)\n",
    "plt.title('Powierzchnia decyzyjna dla własnej implementacji regresji logistycznej dla zbioru make_moons')\n",
    "plt.xlim(-1.5, 2.4)\n",
    "plt.ylim(-1, 1.5)\n",
    "plt.show()"
   ]
  },
  {
   "cell_type": "code",
   "execution_count": 40,
   "metadata": {},
   "outputs": [],
   "source": [
    "Z_moons2 = []\n",
    "\n",
    "for i in range(len(X)):\n",
    "    for j in range(len(Y)):\n",
    "        Z_moons2.append(log_moons_sk.predict([[X[i,j], Y[i,j]]]))\n",
    "        \n",
    "Z_moons2 = np.reshape(Z_moons2, X.shape)"
   ]
  },
  {
   "cell_type": "code",
   "execution_count": 41,
   "metadata": {},
   "outputs": [
    {
     "data": {
      "image/png": "[encoded data removed]",
      "text/plain": [
       "<Figure size 432x288 with 1 Axes>"
      ]
     },
     "metadata": {
      "needs_background": "light"
     },
     "output_type": "display_data"
    }
   ],
   "source": [
    "plt.scatter(x2[:,0][y2==0], x2[:,1][y2==0], label='Klasa 0')\n",
    "plt.scatter(x2[:,0][y2==1], x2[:,1][y2==1], label='Klasa 1')\n",
    "plt.legend()\n",
    "plt.contourf(X, Y, Z_moons2, alpha=0.3)\n",
    "plt.title('Powierzchnia decyzyjna dla implementacji regresji logistycznej z sklearn dla zbioru make_moons')\n",
    "plt.xlim(-1.5, 2.4)\n",
    "plt.ylim(-1, 1.5)\n",
    "plt.show()"
   ]
  },
  {
   "cell_type": "markdown",
   "metadata": {},
   "source": [
    "## Preprocessing zbioru Rain in Australia"
   ]
  },
  {
   "cell_type": "code",
   "execution_count": null,
   "metadata": {},
   "outputs": [
    {
     "data": {
      "text/html": [
       "<div>\n",
       "<style scoped>\n",
       "    .dataframe tbody tr th:only-of-type {\n",
       "        vertical-align: middle;\n",
       "    }\n",
       "\n",
       "    .dataframe tbody tr th {\n",
       "        vertical-align: top;\n",
       "    }\n",
       "\n",
       "    .dataframe thead th {\n",
       "        text-align: right;\n",
       "    }\n",
       "</style>\n",
       "<table border=\"1\" class=\"dataframe\">\n",
       "  <thead>\n",
       "    <tr style=\"text-align: right;\">\n",
       "      <th></th>\n",
       "      <th>Date</th>\n",
       "      <th>Location</th>\n",
       "      <th>MinTemp</th>\n",
       "      <th>MaxTemp</th>\n",
       "      <th>Rainfall</th>\n",
       "      <th>Evaporation</th>\n",
       "      <th>Sunshine</th>\n",
       "      <th>WindGustDir</th>\n",
       "      <th>WindGustSpeed</th>\n",
       "      <th>WindDir9am</th>\n",
       "      <th>...</th>\n",
       "      <th>Humidity9am</th>\n",
       "      <th>Humidity3pm</th>\n",
       "      <th>Pressure9am</th>\n",
       "      <th>Pressure3pm</th>\n",
       "      <th>Cloud9am</th>\n",
       "      <th>Cloud3pm</th>\n",
       "      <th>Temp9am</th>\n",
       "      <th>Temp3pm</th>\n",
       "      <th>RainToday</th>\n",
       "      <th>RainTomorrow</th>\n",
       "    </tr>\n",
       "  </thead>\n",
       "  <tbody>\n",
       "    <tr>\n",
       "      <th>0</th>\n",
       "      <td>2008-12-01</td>\n",
       "      <td>Albury</td>\n",
       "      <td>13.4</td>\n",
       "      <td>22.9</td>\n",
       "      <td>0.6</td>\n",
       "      <td>NaN</td>\n",
       "      <td>NaN</td>\n",
       "      <td>W</td>\n",
       "      <td>44.0</td>\n",
       "      <td>W</td>\n",
       "      <td>...</td>\n",
       "      <td>71.0</td>\n",
       "      <td>22.0</td>\n",
       "      <td>1007.7</td>\n",
       "      <td>1007.1</td>\n",
       "      <td>8.0</td>\n",
       "      <td>NaN</td>\n",
       "      <td>16.9</td>\n",
       "      <td>21.8</td>\n",
       "      <td>No</td>\n",
       "      <td>No</td>\n",
       "    </tr>\n",
       "    <tr>\n",
       "      <th>1</th>\n",
       "      <td>2008-12-02</td>\n",
       "      <td>Albury</td>\n",
       "      <td>7.4</td>\n",
       "      <td>25.1</td>\n",
       "      <td>0.0</td>\n",
       "      <td>NaN</td>\n",
       "      <td>NaN</td>\n",
       "      <td>WNW</td>\n",
       "      <td>44.0</td>\n",
       "      <td>NNW</td>\n",
       "      <td>...</td>\n",
       "      <td>44.0</td>\n",
       "      <td>25.0</td>\n",
       "      <td>1010.6</td>\n",
       "      <td>1007.8</td>\n",
       "      <td>NaN</td>\n",
       "      <td>NaN</td>\n",
       "      <td>17.2</td>\n",
       "      <td>24.3</td>\n",
       "      <td>No</td>\n",
       "      <td>No</td>\n",
       "    </tr>\n",
       "    <tr>\n",
       "      <th>2</th>\n",
       "      <td>2008-12-03</td>\n",
       "      <td>Albury</td>\n",
       "      <td>12.9</td>\n",
       "      <td>25.7</td>\n",
       "      <td>0.0</td>\n",
       "      <td>NaN</td>\n",
       "      <td>NaN</td>\n",
       "      <td>WSW</td>\n",
       "      <td>46.0</td>\n",
       "      <td>W</td>\n",
       "      <td>...</td>\n",
       "      <td>38.0</td>\n",
       "      <td>30.0</td>\n",
       "      <td>1007.6</td>\n",
       "      <td>1008.7</td>\n",
       "      <td>NaN</td>\n",
       "      <td>2.0</td>\n",
       "      <td>21.0</td>\n",
       "      <td>23.2</td>\n",
       "      <td>No</td>\n",
       "      <td>No</td>\n",
       "    </tr>\n",
       "    <tr>\n",
       "      <th>3</th>\n",
       "      <td>2008-12-04</td>\n",
       "      <td>Albury</td>\n",
       "      <td>9.2</td>\n",
       "      <td>28.0</td>\n",
       "      <td>0.0</td>\n",
       "      <td>NaN</td>\n",
       "      <td>NaN</td>\n",
       "      <td>NE</td>\n",
       "      <td>24.0</td>\n",
       "      <td>SE</td>\n",
       "      <td>...</td>\n",
       "      <td>45.0</td>\n",
       "      <td>16.0</td>\n",
       "      <td>1017.6</td>\n",
       "      <td>1012.8</td>\n",
       "      <td>NaN</td>\n",
       "      <td>NaN</td>\n",
       "      <td>18.1</td>\n",
       "      <td>26.5</td>\n",
       "      <td>No</td>\n",
       "      <td>No</td>\n",
       "    </tr>\n",
       "    <tr>\n",
       "      <th>4</th>\n",
       "      <td>2008-12-05</td>\n",
       "      <td>Albury</td>\n",
       "      <td>17.5</td>\n",
       "      <td>32.3</td>\n",
       "      <td>1.0</td>\n",
       "      <td>NaN</td>\n",
       "      <td>NaN</td>\n",
       "      <td>W</td>\n",
       "      <td>41.0</td>\n",
       "      <td>ENE</td>\n",
       "      <td>...</td>\n",
       "      <td>82.0</td>\n",
       "      <td>33.0</td>\n",
       "      <td>1010.8</td>\n",
       "      <td>1006.0</td>\n",
       "      <td>7.0</td>\n",
       "      <td>8.0</td>\n",
       "      <td>17.8</td>\n",
       "      <td>29.7</td>\n",
       "      <td>No</td>\n",
       "      <td>No</td>\n",
       "    </tr>\n",
       "    <tr>\n",
       "      <th>...</th>\n",
       "      <td>...</td>\n",
       "      <td>...</td>\n",
       "      <td>...</td>\n",
       "      <td>...</td>\n",
       "      <td>...</td>\n",
       "      <td>...</td>\n",
       "      <td>...</td>\n",
       "      <td>...</td>\n",
       "      <td>...</td>\n",
       "      <td>...</td>\n",
       "      <td>...</td>\n",
       "      <td>...</td>\n",
       "      <td>...</td>\n",
       "      <td>...</td>\n",
       "      <td>...</td>\n",
       "      <td>...</td>\n",
       "      <td>...</td>\n",
       "      <td>...</td>\n",
       "      <td>...</td>\n",
       "      <td>...</td>\n",
       "      <td>...</td>\n",
       "    </tr>\n",
       "    <tr>\n",
       "      <th>145455</th>\n",
       "      <td>2017-06-21</td>\n",
       "      <td>Uluru</td>\n",
       "      <td>2.8</td>\n",
       "      <td>23.4</td>\n",
       "      <td>0.0</td>\n",
       "      <td>NaN</td>\n",
       "      <td>NaN</td>\n",
       "      <td>E</td>\n",
       "      <td>31.0</td>\n",
       "      <td>SE</td>\n",
       "      <td>...</td>\n",
       "      <td>51.0</td>\n",
       "      <td>24.0</td>\n",
       "      <td>1024.6</td>\n",
       "      <td>1020.3</td>\n",
       "      <td>NaN</td>\n",
       "      <td>NaN</td>\n",
       "      <td>10.1</td>\n",
       "      <td>22.4</td>\n",
       "      <td>No</td>\n",
       "      <td>No</td>\n",
       "    </tr>\n",
       "    <tr>\n",
       "      <th>145456</th>\n",
       "      <td>2017-06-22</td>\n",
       "      <td>Uluru</td>\n",
       "      <td>3.6</td>\n",
       "      <td>25.3</td>\n",
       "      <td>0.0</td>\n",
       "      <td>NaN</td>\n",
       "      <td>NaN</td>\n",
       "      <td>NNW</td>\n",
       "      <td>22.0</td>\n",
       "      <td>SE</td>\n",
       "      <td>...</td>\n",
       "      <td>56.0</td>\n",
       "      <td>21.0</td>\n",
       "      <td>1023.5</td>\n",
       "      <td>1019.1</td>\n",
       "      <td>NaN</td>\n",
       "      <td>NaN</td>\n",
       "      <td>10.9</td>\n",
       "      <td>24.5</td>\n",
       "      <td>No</td>\n",
       "      <td>No</td>\n",
       "    </tr>\n",
       "    <tr>\n",
       "      <th>145457</th>\n",
       "      <td>2017-06-23</td>\n",
       "      <td>Uluru</td>\n",
       "      <td>5.4</td>\n",
       "      <td>26.9</td>\n",
       "      <td>0.0</td>\n",
       "      <td>NaN</td>\n",
       "      <td>NaN</td>\n",
       "      <td>N</td>\n",
       "      <td>37.0</td>\n",
       "      <td>SE</td>\n",
       "      <td>...</td>\n",
       "      <td>53.0</td>\n",
       "      <td>24.0</td>\n",
       "      <td>1021.0</td>\n",
       "      <td>1016.8</td>\n",
       "      <td>NaN</td>\n",
       "      <td>NaN</td>\n",
       "      <td>12.5</td>\n",
       "      <td>26.1</td>\n",
       "      <td>No</td>\n",
       "      <td>No</td>\n",
       "    </tr>\n",
       "    <tr>\n",
       "      <th>145458</th>\n",
       "      <td>2017-06-24</td>\n",
       "      <td>Uluru</td>\n",
       "      <td>7.8</td>\n",
       "      <td>27.0</td>\n",
       "      <td>0.0</td>\n",
       "      <td>NaN</td>\n",
       "      <td>NaN</td>\n",
       "      <td>SE</td>\n",
       "      <td>28.0</td>\n",
       "      <td>SSE</td>\n",
       "      <td>...</td>\n",
       "      <td>51.0</td>\n",
       "      <td>24.0</td>\n",
       "      <td>1019.4</td>\n",
       "      <td>1016.5</td>\n",
       "      <td>3.0</td>\n",
       "      <td>2.0</td>\n",
       "      <td>15.1</td>\n",
       "      <td>26.0</td>\n",
       "      <td>No</td>\n",
       "      <td>No</td>\n",
       "    </tr>\n",
       "    <tr>\n",
       "      <th>145459</th>\n",
       "      <td>2017-06-25</td>\n",
       "      <td>Uluru</td>\n",
       "      <td>14.9</td>\n",
       "      <td>NaN</td>\n",
       "      <td>0.0</td>\n",
       "      <td>NaN</td>\n",
       "      <td>NaN</td>\n",
       "      <td>NaN</td>\n",
       "      <td>NaN</td>\n",
       "      <td>ESE</td>\n",
       "      <td>...</td>\n",
       "      <td>62.0</td>\n",
       "      <td>36.0</td>\n",
       "      <td>1020.2</td>\n",
       "      <td>1017.9</td>\n",
       "      <td>8.0</td>\n",
       "      <td>8.0</td>\n",
       "      <td>15.0</td>\n",
       "      <td>20.9</td>\n",
       "      <td>No</td>\n",
       "      <td>NaN</td>\n",
       "    </tr>\n",
       "  </tbody>\n",
       "</table>\n",
       "<p>145460 rows × 23 columns</p>\n",
       "</div>"
      ],
      "text/plain": [
       "              Date Location  MinTemp  MaxTemp  Rainfall  Evaporation  \\\n",
       "0       2008-12-01   Albury     13.4     22.9       0.6          NaN   \n",
       "1       2008-12-02   Albury      7.4     25.1       0.0          NaN   \n",
       "2       2008-12-03   Albury     12.9     25.7       0.0          NaN   \n",
       "3       2008-12-04   Albury      9.2     28.0       0.0          NaN   \n",
       "4       2008-12-05   Albury     17.5     32.3       1.0          NaN   \n",
       "...            ...      ...      ...      ...       ...          ...   \n",
       "145455  2017-06-21    Uluru      2.8     23.4       0.0          NaN   \n",
       "145456  2017-06-22    Uluru      3.6     25.3       0.0          NaN   \n",
       "145457  2017-06-23    Uluru      5.4     26.9       0.0          NaN   \n",
       "145458  2017-06-24    Uluru      7.8     27.0       0.0          NaN   \n",
       "145459  2017-06-25    Uluru     14.9      NaN       0.0          NaN   \n",
       "\n",
       "        Sunshine WindGustDir  WindGustSpeed WindDir9am  ... Humidity9am  \\\n",
       "0            NaN           W           44.0          W  ...        71.0   \n",
       "1            NaN         WNW           44.0        NNW  ...        44.0   \n",
       "2            NaN         WSW           46.0          W  ...        38.0   \n",
       "3            NaN          NE           24.0         SE  ...        45.0   \n",
       "4            NaN           W           41.0        ENE  ...        82.0   \n",
       "...          ...         ...            ...        ...  ...         ...   \n",
       "145455       NaN           E           31.0         SE  ...        51.0   \n",
       "145456       NaN         NNW           22.0         SE  ...        56.0   \n",
       "145457       NaN           N           37.0         SE  ...        53.0   \n",
       "145458       NaN          SE           28.0        SSE  ...        51.0   \n",
       "145459       NaN         NaN            NaN        ESE  ...        62.0   \n",
       "\n",
       "        Humidity3pm  Pressure9am  Pressure3pm  Cloud9am  Cloud3pm  Temp9am  \\\n",
       "0              22.0       1007.7       1007.1       8.0       NaN     16.9   \n",
       "1              25.0       1010.6       1007.8       NaN       NaN     17.2   \n",
       "2              30.0       1007.6       1008.7       NaN       2.0     21.0   \n",
       "3              16.0       1017.6       1012.8       NaN       NaN     18.1   \n",
       "4              33.0       1010.8       1006.0       7.0       8.0     17.8   \n",
       "...             ...          ...          ...       ...       ...      ...   \n",
       "145455         24.0       1024.6       1020.3       NaN       NaN     10.1   \n",
       "145456         21.0       1023.5       1019.1       NaN       NaN     10.9   \n",
       "145457         24.0       1021.0       1016.8       NaN       NaN     12.5   \n",
       "145458         24.0       1019.4       1016.5       3.0       2.0     15.1   \n",
       "145459         36.0       1020.2       1017.9       8.0       8.0     15.0   \n",
       "\n",
       "        Temp3pm  RainToday  RainTomorrow  \n",
       "0          21.8         No            No  \n",
       "1          24.3         No            No  \n",
       "2          23.2         No            No  \n",
       "3          26.5         No            No  \n",
       "4          29.7         No            No  \n",
       "...         ...        ...           ...  \n",
       "145455     22.4         No            No  \n",
       "145456     24.5         No            No  \n",
       "145457     26.1         No            No  \n",
       "145458     26.0         No            No  \n",
       "145459     20.9         No           NaN  \n",
       "\n",
       "[145460 rows x 23 columns]"
      ]
     },
     "execution_count": 42,
     "metadata": {},
     "output_type": "execute_result"
    }
   ],
   "source": [
    "zbior = pd.read_csv(r\"weatherAUS.csv\")\n",
    "zbior"
   ]
  },
  {
   "cell_type": "code",
   "execution_count": 43,
   "metadata": {},
   "outputs": [
    {
     "name": "stdout",
     "output_type": "stream",
     "text": [
      "Date: 0.00% braków\n",
      "Location: 0.00% braków\n",
      "MinTemp: 1.02% braków\n",
      "MaxTemp: 0.87% braków\n",
      "Rainfall: 2.24% braków\n",
      "Evaporation: 43.17% braków\n",
      "Sunshine: 48.01% braków\n",
      "WindGustDir: 7.10% braków\n",
      "WindGustSpeed: 7.06% braków\n",
      "WindDir9am: 7.26% braków\n",
      "WindDir3pm: 2.91% braków\n",
      "WindSpeed9am: 1.21% braków\n",
      "WindSpeed3pm: 2.11% braków\n",
      "Humidity9am: 1.82% braków\n",
      "Humidity3pm: 3.10% braków\n",
      "Pressure9am: 10.36% braków\n",
      "Pressure3pm: 10.33% braków\n",
      "Cloud9am: 38.42% braków\n",
      "Cloud3pm: 40.81% braków\n",
      "Temp9am: 1.21% braków\n",
      "Temp3pm: 2.48% braków\n",
      "RainToday: 2.24% braków\n",
      "RainTomorrow: 2.25% braków\n"
     ]
    }
   ],
   "source": [
    "n = len(zbior)\n",
    "\n",
    "for i in zbior.columns:\n",
    "    nans = zbior[i].isna().sum()\n",
    "    print(f\"{i}: {nans/n*100:.2f}% braków\")"
   ]
  },
  {
   "cell_type": "markdown",
   "metadata": {},
   "source": [
    "Zatem do kolumnami do usunięcia są: Evaporation, Sunshine, Cloud9am oraz Cloud3pm."
   ]
  },
  {
   "cell_type": "code",
   "execution_count": 44,
   "metadata": {},
   "outputs": [
    {
     "data": {
      "text/html": [
       "<div>\n",
       "<style scoped>\n",
       "    .dataframe tbody tr th:only-of-type {\n",
       "        vertical-align: middle;\n",
       "    }\n",
       "\n",
       "    .dataframe tbody tr th {\n",
       "        vertical-align: top;\n",
       "    }\n",
       "\n",
       "    .dataframe thead th {\n",
       "        text-align: right;\n",
       "    }\n",
       "</style>\n",
       "<table border=\"1\" class=\"dataframe\">\n",
       "  <thead>\n",
       "    <tr style=\"text-align: right;\">\n",
       "      <th></th>\n",
       "      <th>Date</th>\n",
       "      <th>Location</th>\n",
       "      <th>MinTemp</th>\n",
       "      <th>MaxTemp</th>\n",
       "      <th>Rainfall</th>\n",
       "      <th>WindGustDir</th>\n",
       "      <th>WindGustSpeed</th>\n",
       "      <th>WindDir9am</th>\n",
       "      <th>WindDir3pm</th>\n",
       "      <th>WindSpeed9am</th>\n",
       "      <th>WindSpeed3pm</th>\n",
       "      <th>Humidity9am</th>\n",
       "      <th>Humidity3pm</th>\n",
       "      <th>Pressure9am</th>\n",
       "      <th>Pressure3pm</th>\n",
       "      <th>Temp9am</th>\n",
       "      <th>Temp3pm</th>\n",
       "      <th>RainToday</th>\n",
       "      <th>RainTomorrow</th>\n",
       "    </tr>\n",
       "  </thead>\n",
       "  <tbody>\n",
       "    <tr>\n",
       "      <th>0</th>\n",
       "      <td>2008-12-01</td>\n",
       "      <td>Albury</td>\n",
       "      <td>13.4</td>\n",
       "      <td>22.9</td>\n",
       "      <td>0.6</td>\n",
       "      <td>W</td>\n",
       "      <td>44.0</td>\n",
       "      <td>W</td>\n",
       "      <td>WNW</td>\n",
       "      <td>20.0</td>\n",
       "      <td>24.0</td>\n",
       "      <td>71.0</td>\n",
       "      <td>22.0</td>\n",
       "      <td>1007.7</td>\n",
       "      <td>1007.1</td>\n",
       "      <td>16.9</td>\n",
       "      <td>21.8</td>\n",
       "      <td>No</td>\n",
       "      <td>No</td>\n",
       "    </tr>\n",
       "    <tr>\n",
       "      <th>1</th>\n",
       "      <td>2008-12-02</td>\n",
       "      <td>Albury</td>\n",
       "      <td>7.4</td>\n",
       "      <td>25.1</td>\n",
       "      <td>0.0</td>\n",
       "      <td>WNW</td>\n",
       "      <td>44.0</td>\n",
       "      <td>NNW</td>\n",
       "      <td>WSW</td>\n",
       "      <td>4.0</td>\n",
       "      <td>22.0</td>\n",
       "      <td>44.0</td>\n",
       "      <td>25.0</td>\n",
       "      <td>1010.6</td>\n",
       "      <td>1007.8</td>\n",
       "      <td>17.2</td>\n",
       "      <td>24.3</td>\n",
       "      <td>No</td>\n",
       "      <td>No</td>\n",
       "    </tr>\n",
       "    <tr>\n",
       "      <th>2</th>\n",
       "      <td>2008-12-03</td>\n",
       "      <td>Albury</td>\n",
       "      <td>12.9</td>\n",
       "      <td>25.7</td>\n",
       "      <td>0.0</td>\n",
       "      <td>WSW</td>\n",
       "      <td>46.0</td>\n",
       "      <td>W</td>\n",
       "      <td>WSW</td>\n",
       "      <td>19.0</td>\n",
       "      <td>26.0</td>\n",
       "      <td>38.0</td>\n",
       "      <td>30.0</td>\n",
       "      <td>1007.6</td>\n",
       "      <td>1008.7</td>\n",
       "      <td>21.0</td>\n",
       "      <td>23.2</td>\n",
       "      <td>No</td>\n",
       "      <td>No</td>\n",
       "    </tr>\n",
       "    <tr>\n",
       "      <th>3</th>\n",
       "      <td>2008-12-04</td>\n",
       "      <td>Albury</td>\n",
       "      <td>9.2</td>\n",
       "      <td>28.0</td>\n",
       "      <td>0.0</td>\n",
       "      <td>NE</td>\n",
       "      <td>24.0</td>\n",
       "      <td>SE</td>\n",
       "      <td>E</td>\n",
       "      <td>11.0</td>\n",
       "      <td>9.0</td>\n",
       "      <td>45.0</td>\n",
       "      <td>16.0</td>\n",
       "      <td>1017.6</td>\n",
       "      <td>1012.8</td>\n",
       "      <td>18.1</td>\n",
       "      <td>26.5</td>\n",
       "      <td>No</td>\n",
       "      <td>No</td>\n",
       "    </tr>\n",
       "    <tr>\n",
       "      <th>4</th>\n",
       "      <td>2008-12-05</td>\n",
       "      <td>Albury</td>\n",
       "      <td>17.5</td>\n",
       "      <td>32.3</td>\n",
       "      <td>1.0</td>\n",
       "      <td>W</td>\n",
       "      <td>41.0</td>\n",
       "      <td>ENE</td>\n",
       "      <td>NW</td>\n",
       "      <td>7.0</td>\n",
       "      <td>20.0</td>\n",
       "      <td>82.0</td>\n",
       "      <td>33.0</td>\n",
       "      <td>1010.8</td>\n",
       "      <td>1006.0</td>\n",
       "      <td>17.8</td>\n",
       "      <td>29.7</td>\n",
       "      <td>No</td>\n",
       "      <td>No</td>\n",
       "    </tr>\n",
       "    <tr>\n",
       "      <th>...</th>\n",
       "      <td>...</td>\n",
       "      <td>...</td>\n",
       "      <td>...</td>\n",
       "      <td>...</td>\n",
       "      <td>...</td>\n",
       "      <td>...</td>\n",
       "      <td>...</td>\n",
       "      <td>...</td>\n",
       "      <td>...</td>\n",
       "      <td>...</td>\n",
       "      <td>...</td>\n",
       "      <td>...</td>\n",
       "      <td>...</td>\n",
       "      <td>...</td>\n",
       "      <td>...</td>\n",
       "      <td>...</td>\n",
       "      <td>...</td>\n",
       "      <td>...</td>\n",
       "      <td>...</td>\n",
       "    </tr>\n",
       "    <tr>\n",
       "      <th>145455</th>\n",
       "      <td>2017-06-21</td>\n",
       "      <td>Uluru</td>\n",
       "      <td>2.8</td>\n",
       "      <td>23.4</td>\n",
       "      <td>0.0</td>\n",
       "      <td>E</td>\n",
       "      <td>31.0</td>\n",
       "      <td>SE</td>\n",
       "      <td>ENE</td>\n",
       "      <td>13.0</td>\n",
       "      <td>11.0</td>\n",
       "      <td>51.0</td>\n",
       "      <td>24.0</td>\n",
       "      <td>1024.6</td>\n",
       "      <td>1020.3</td>\n",
       "      <td>10.1</td>\n",
       "      <td>22.4</td>\n",
       "      <td>No</td>\n",
       "      <td>No</td>\n",
       "    </tr>\n",
       "    <tr>\n",
       "      <th>145456</th>\n",
       "      <td>2017-06-22</td>\n",
       "      <td>Uluru</td>\n",
       "      <td>3.6</td>\n",
       "      <td>25.3</td>\n",
       "      <td>0.0</td>\n",
       "      <td>NNW</td>\n",
       "      <td>22.0</td>\n",
       "      <td>SE</td>\n",
       "      <td>N</td>\n",
       "      <td>13.0</td>\n",
       "      <td>9.0</td>\n",
       "      <td>56.0</td>\n",
       "      <td>21.0</td>\n",
       "      <td>1023.5</td>\n",
       "      <td>1019.1</td>\n",
       "      <td>10.9</td>\n",
       "      <td>24.5</td>\n",
       "      <td>No</td>\n",
       "      <td>No</td>\n",
       "    </tr>\n",
       "    <tr>\n",
       "      <th>145457</th>\n",
       "      <td>2017-06-23</td>\n",
       "      <td>Uluru</td>\n",
       "      <td>5.4</td>\n",
       "      <td>26.9</td>\n",
       "      <td>0.0</td>\n",
       "      <td>N</td>\n",
       "      <td>37.0</td>\n",
       "      <td>SE</td>\n",
       "      <td>WNW</td>\n",
       "      <td>9.0</td>\n",
       "      <td>9.0</td>\n",
       "      <td>53.0</td>\n",
       "      <td>24.0</td>\n",
       "      <td>1021.0</td>\n",
       "      <td>1016.8</td>\n",
       "      <td>12.5</td>\n",
       "      <td>26.1</td>\n",
       "      <td>No</td>\n",
       "      <td>No</td>\n",
       "    </tr>\n",
       "    <tr>\n",
       "      <th>145458</th>\n",
       "      <td>2017-06-24</td>\n",
       "      <td>Uluru</td>\n",
       "      <td>7.8</td>\n",
       "      <td>27.0</td>\n",
       "      <td>0.0</td>\n",
       "      <td>SE</td>\n",
       "      <td>28.0</td>\n",
       "      <td>SSE</td>\n",
       "      <td>N</td>\n",
       "      <td>13.0</td>\n",
       "      <td>7.0</td>\n",
       "      <td>51.0</td>\n",
       "      <td>24.0</td>\n",
       "      <td>1019.4</td>\n",
       "      <td>1016.5</td>\n",
       "      <td>15.1</td>\n",
       "      <td>26.0</td>\n",
       "      <td>No</td>\n",
       "      <td>No</td>\n",
       "    </tr>\n",
       "    <tr>\n",
       "      <th>145459</th>\n",
       "      <td>2017-06-25</td>\n",
       "      <td>Uluru</td>\n",
       "      <td>14.9</td>\n",
       "      <td>NaN</td>\n",
       "      <td>0.0</td>\n",
       "      <td>NaN</td>\n",
       "      <td>NaN</td>\n",
       "      <td>ESE</td>\n",
       "      <td>ESE</td>\n",
       "      <td>17.0</td>\n",
       "      <td>17.0</td>\n",
       "      <td>62.0</td>\n",
       "      <td>36.0</td>\n",
       "      <td>1020.2</td>\n",
       "      <td>1017.9</td>\n",
       "      <td>15.0</td>\n",
       "      <td>20.9</td>\n",
       "      <td>No</td>\n",
       "      <td>NaN</td>\n",
       "    </tr>\n",
       "  </tbody>\n",
       "</table>\n",
       "<p>145460 rows × 19 columns</p>\n",
       "</div>"
      ],
      "text/plain": [
       "              Date Location  MinTemp  MaxTemp  Rainfall WindGustDir  \\\n",
       "0       2008-12-01   Albury     13.4     22.9       0.6           W   \n",
       "1       2008-12-02   Albury      7.4     25.1       0.0         WNW   \n",
       "2       2008-12-03   Albury     12.9     25.7       0.0         WSW   \n",
       "3       2008-12-04   Albury      9.2     28.0       0.0          NE   \n",
       "4       2008-12-05   Albury     17.5     32.3       1.0           W   \n",
       "...            ...      ...      ...      ...       ...         ...   \n",
       "145455  2017-06-21    Uluru      2.8     23.4       0.0           E   \n",
       "145456  2017-06-22    Uluru      3.6     25.3       0.0         NNW   \n",
       "145457  2017-06-23    Uluru      5.4     26.9       0.0           N   \n",
       "145458  2017-06-24    Uluru      7.8     27.0       0.0          SE   \n",
       "145459  2017-06-25    Uluru     14.9      NaN       0.0         NaN   \n",
       "\n",
       "        WindGustSpeed WindDir9am WindDir3pm  WindSpeed9am  WindSpeed3pm  \\\n",
       "0                44.0          W        WNW          20.0          24.0   \n",
       "1                44.0        NNW        WSW           4.0          22.0   \n",
       "2                46.0          W        WSW          19.0          26.0   \n",
       "3                24.0         SE          E          11.0           9.0   \n",
       "4                41.0        ENE         NW           7.0          20.0   \n",
       "...               ...        ...        ...           ...           ...   \n",
       "145455           31.0         SE        ENE          13.0          11.0   \n",
       "145456           22.0         SE          N          13.0           9.0   \n",
       "145457           37.0         SE        WNW           9.0           9.0   \n",
       "145458           28.0        SSE          N          13.0           7.0   \n",
       "145459            NaN        ESE        ESE          17.0          17.0   \n",
       "\n",
       "        Humidity9am  Humidity3pm  Pressure9am  Pressure3pm  Temp9am  Temp3pm  \\\n",
       "0              71.0         22.0       1007.7       1007.1     16.9     21.8   \n",
       "1              44.0         25.0       1010.6       1007.8     17.2     24.3   \n",
       "2              38.0         30.0       1007.6       1008.7     21.0     23.2   \n",
       "3              45.0         16.0       1017.6       1012.8     18.1     26.5   \n",
       "4              82.0         33.0       1010.8       1006.0     17.8     29.7   \n",
       "...             ...          ...          ...          ...      ...      ...   \n",
       "145455         51.0         24.0       1024.6       1020.3     10.1     22.4   \n",
       "145456         56.0         21.0       1023.5       1019.1     10.9     24.5   \n",
       "145457         53.0         24.0       1021.0       1016.8     12.5     26.1   \n",
       "145458         51.0         24.0       1019.4       1016.5     15.1     26.0   \n",
       "145459         62.0         36.0       1020.2       1017.9     15.0     20.9   \n",
       "\n",
       "       RainToday RainTomorrow  \n",
       "0             No           No  \n",
       "1             No           No  \n",
       "2             No           No  \n",
       "3             No           No  \n",
       "4             No           No  \n",
       "...          ...          ...  \n",
       "145455        No           No  \n",
       "145456        No           No  \n",
       "145457        No           No  \n",
       "145458        No           No  \n",
       "145459        No          NaN  \n",
       "\n",
       "[145460 rows x 19 columns]"
      ]
     },
     "execution_count": 44,
     "metadata": {},
     "output_type": "execute_result"
    }
   ],
   "source": [
    "zbior_processed = zbior.drop(columns=['Evaporation', 'Sunshine', 'Cloud9am', 'Cloud3pm'])\n",
    "zbior_processed"
   ]
  },
  {
   "cell_type": "code",
   "execution_count": 45,
   "metadata": {},
   "outputs": [],
   "source": [
    "x = zbior_processed.drop(columns='RainTomorrow')\n",
    "y = zbior_processed['RainTomorrow']"
   ]
  },
  {
   "cell_type": "code",
   "execution_count": 46,
   "metadata": {},
   "outputs": [
    {
     "data": {
      "text/html": [
       "<div>\n",
       "<style scoped>\n",
       "    .dataframe tbody tr th:only-of-type {\n",
       "        vertical-align: middle;\n",
       "    }\n",
       "\n",
       "    .dataframe tbody tr th {\n",
       "        vertical-align: top;\n",
       "    }\n",
       "\n",
       "    .dataframe thead th {\n",
       "        text-align: right;\n",
       "    }\n",
       "</style>\n",
       "<table border=\"1\" class=\"dataframe\">\n",
       "  <thead>\n",
       "    <tr style=\"text-align: right;\">\n",
       "      <th></th>\n",
       "      <th>Date</th>\n",
       "      <th>Location</th>\n",
       "      <th>MinTemp</th>\n",
       "      <th>MaxTemp</th>\n",
       "      <th>Rainfall</th>\n",
       "      <th>WindGustDir</th>\n",
       "      <th>WindGustSpeed</th>\n",
       "      <th>WindDir9am</th>\n",
       "      <th>WindDir3pm</th>\n",
       "      <th>WindSpeed9am</th>\n",
       "      <th>WindSpeed3pm</th>\n",
       "      <th>Humidity9am</th>\n",
       "      <th>Humidity3pm</th>\n",
       "      <th>Pressure9am</th>\n",
       "      <th>Pressure3pm</th>\n",
       "      <th>Temp9am</th>\n",
       "      <th>Temp3pm</th>\n",
       "      <th>RainToday</th>\n",
       "    </tr>\n",
       "  </thead>\n",
       "  <tbody>\n",
       "    <tr>\n",
       "      <th>0</th>\n",
       "      <td>2008-12-01</td>\n",
       "      <td>Albury</td>\n",
       "      <td>13.4</td>\n",
       "      <td>22.9</td>\n",
       "      <td>0.6</td>\n",
       "      <td>W</td>\n",
       "      <td>44.0</td>\n",
       "      <td>W</td>\n",
       "      <td>WNW</td>\n",
       "      <td>20.0</td>\n",
       "      <td>24.0</td>\n",
       "      <td>71.0</td>\n",
       "      <td>22.0</td>\n",
       "      <td>1007.7</td>\n",
       "      <td>1007.1</td>\n",
       "      <td>16.9</td>\n",
       "      <td>21.8</td>\n",
       "      <td>No</td>\n",
       "    </tr>\n",
       "    <tr>\n",
       "      <th>1</th>\n",
       "      <td>2008-12-02</td>\n",
       "      <td>Albury</td>\n",
       "      <td>7.4</td>\n",
       "      <td>25.1</td>\n",
       "      <td>0.0</td>\n",
       "      <td>WNW</td>\n",
       "      <td>44.0</td>\n",
       "      <td>NNW</td>\n",
       "      <td>WSW</td>\n",
       "      <td>4.0</td>\n",
       "      <td>22.0</td>\n",
       "      <td>44.0</td>\n",
       "      <td>25.0</td>\n",
       "      <td>1010.6</td>\n",
       "      <td>1007.8</td>\n",
       "      <td>17.2</td>\n",
       "      <td>24.3</td>\n",
       "      <td>No</td>\n",
       "    </tr>\n",
       "    <tr>\n",
       "      <th>2</th>\n",
       "      <td>2008-12-03</td>\n",
       "      <td>Albury</td>\n",
       "      <td>12.9</td>\n",
       "      <td>25.7</td>\n",
       "      <td>0.0</td>\n",
       "      <td>WSW</td>\n",
       "      <td>46.0</td>\n",
       "      <td>W</td>\n",
       "      <td>WSW</td>\n",
       "      <td>19.0</td>\n",
       "      <td>26.0</td>\n",
       "      <td>38.0</td>\n",
       "      <td>30.0</td>\n",
       "      <td>1007.6</td>\n",
       "      <td>1008.7</td>\n",
       "      <td>21.0</td>\n",
       "      <td>23.2</td>\n",
       "      <td>No</td>\n",
       "    </tr>\n",
       "    <tr>\n",
       "      <th>3</th>\n",
       "      <td>2008-12-04</td>\n",
       "      <td>Albury</td>\n",
       "      <td>9.2</td>\n",
       "      <td>28.0</td>\n",
       "      <td>0.0</td>\n",
       "      <td>NE</td>\n",
       "      <td>24.0</td>\n",
       "      <td>SE</td>\n",
       "      <td>E</td>\n",
       "      <td>11.0</td>\n",
       "      <td>9.0</td>\n",
       "      <td>45.0</td>\n",
       "      <td>16.0</td>\n",
       "      <td>1017.6</td>\n",
       "      <td>1012.8</td>\n",
       "      <td>18.1</td>\n",
       "      <td>26.5</td>\n",
       "      <td>No</td>\n",
       "    </tr>\n",
       "    <tr>\n",
       "      <th>4</th>\n",
       "      <td>2008-12-05</td>\n",
       "      <td>Albury</td>\n",
       "      <td>17.5</td>\n",
       "      <td>32.3</td>\n",
       "      <td>1.0</td>\n",
       "      <td>W</td>\n",
       "      <td>41.0</td>\n",
       "      <td>ENE</td>\n",
       "      <td>NW</td>\n",
       "      <td>7.0</td>\n",
       "      <td>20.0</td>\n",
       "      <td>82.0</td>\n",
       "      <td>33.0</td>\n",
       "      <td>1010.8</td>\n",
       "      <td>1006.0</td>\n",
       "      <td>17.8</td>\n",
       "      <td>29.7</td>\n",
       "      <td>No</td>\n",
       "    </tr>\n",
       "    <tr>\n",
       "      <th>...</th>\n",
       "      <td>...</td>\n",
       "      <td>...</td>\n",
       "      <td>...</td>\n",
       "      <td>...</td>\n",
       "      <td>...</td>\n",
       "      <td>...</td>\n",
       "      <td>...</td>\n",
       "      <td>...</td>\n",
       "      <td>...</td>\n",
       "      <td>...</td>\n",
       "      <td>...</td>\n",
       "      <td>...</td>\n",
       "      <td>...</td>\n",
       "      <td>...</td>\n",
       "      <td>...</td>\n",
       "      <td>...</td>\n",
       "      <td>...</td>\n",
       "      <td>...</td>\n",
       "    </tr>\n",
       "    <tr>\n",
       "      <th>145455</th>\n",
       "      <td>2017-06-21</td>\n",
       "      <td>Uluru</td>\n",
       "      <td>2.8</td>\n",
       "      <td>23.4</td>\n",
       "      <td>0.0</td>\n",
       "      <td>E</td>\n",
       "      <td>31.0</td>\n",
       "      <td>SE</td>\n",
       "      <td>ENE</td>\n",
       "      <td>13.0</td>\n",
       "      <td>11.0</td>\n",
       "      <td>51.0</td>\n",
       "      <td>24.0</td>\n",
       "      <td>1024.6</td>\n",
       "      <td>1020.3</td>\n",
       "      <td>10.1</td>\n",
       "      <td>22.4</td>\n",
       "      <td>No</td>\n",
       "    </tr>\n",
       "    <tr>\n",
       "      <th>145456</th>\n",
       "      <td>2017-06-22</td>\n",
       "      <td>Uluru</td>\n",
       "      <td>3.6</td>\n",
       "      <td>25.3</td>\n",
       "      <td>0.0</td>\n",
       "      <td>NNW</td>\n",
       "      <td>22.0</td>\n",
       "      <td>SE</td>\n",
       "      <td>N</td>\n",
       "      <td>13.0</td>\n",
       "      <td>9.0</td>\n",
       "      <td>56.0</td>\n",
       "      <td>21.0</td>\n",
       "      <td>1023.5</td>\n",
       "      <td>1019.1</td>\n",
       "      <td>10.9</td>\n",
       "      <td>24.5</td>\n",
       "      <td>No</td>\n",
       "    </tr>\n",
       "    <tr>\n",
       "      <th>145457</th>\n",
       "      <td>2017-06-23</td>\n",
       "      <td>Uluru</td>\n",
       "      <td>5.4</td>\n",
       "      <td>26.9</td>\n",
       "      <td>0.0</td>\n",
       "      <td>N</td>\n",
       "      <td>37.0</td>\n",
       "      <td>SE</td>\n",
       "      <td>WNW</td>\n",
       "      <td>9.0</td>\n",
       "      <td>9.0</td>\n",
       "      <td>53.0</td>\n",
       "      <td>24.0</td>\n",
       "      <td>1021.0</td>\n",
       "      <td>1016.8</td>\n",
       "      <td>12.5</td>\n",
       "      <td>26.1</td>\n",
       "      <td>No</td>\n",
       "    </tr>\n",
       "    <tr>\n",
       "      <th>145458</th>\n",
       "      <td>2017-06-24</td>\n",
       "      <td>Uluru</td>\n",
       "      <td>7.8</td>\n",
       "      <td>27.0</td>\n",
       "      <td>0.0</td>\n",
       "      <td>SE</td>\n",
       "      <td>28.0</td>\n",
       "      <td>SSE</td>\n",
       "      <td>N</td>\n",
       "      <td>13.0</td>\n",
       "      <td>7.0</td>\n",
       "      <td>51.0</td>\n",
       "      <td>24.0</td>\n",
       "      <td>1019.4</td>\n",
       "      <td>1016.5</td>\n",
       "      <td>15.1</td>\n",
       "      <td>26.0</td>\n",
       "      <td>No</td>\n",
       "    </tr>\n",
       "    <tr>\n",
       "      <th>145459</th>\n",
       "      <td>2017-06-25</td>\n",
       "      <td>Uluru</td>\n",
       "      <td>14.9</td>\n",
       "      <td>NaN</td>\n",
       "      <td>0.0</td>\n",
       "      <td>NaN</td>\n",
       "      <td>NaN</td>\n",
       "      <td>ESE</td>\n",
       "      <td>ESE</td>\n",
       "      <td>17.0</td>\n",
       "      <td>17.0</td>\n",
       "      <td>62.0</td>\n",
       "      <td>36.0</td>\n",
       "      <td>1020.2</td>\n",
       "      <td>1017.9</td>\n",
       "      <td>15.0</td>\n",
       "      <td>20.9</td>\n",
       "      <td>No</td>\n",
       "    </tr>\n",
       "  </tbody>\n",
       "</table>\n",
       "<p>145460 rows × 18 columns</p>\n",
       "</div>"
      ],
      "text/plain": [
       "              Date Location  MinTemp  MaxTemp  Rainfall WindGustDir  \\\n",
       "0       2008-12-01   Albury     13.4     22.9       0.6           W   \n",
       "1       2008-12-02   Albury      7.4     25.1       0.0         WNW   \n",
       "2       2008-12-03   Albury     12.9     25.7       0.0         WSW   \n",
       "3       2008-12-04   Albury      9.2     28.0       0.0          NE   \n",
       "4       2008-12-05   Albury     17.5     32.3       1.0           W   \n",
       "...            ...      ...      ...      ...       ...         ...   \n",
       "145455  2017-06-21    Uluru      2.8     23.4       0.0           E   \n",
       "145456  2017-06-22    Uluru      3.6     25.3       0.0         NNW   \n",
       "145457  2017-06-23    Uluru      5.4     26.9       0.0           N   \n",
       "145458  2017-06-24    Uluru      7.8     27.0       0.0          SE   \n",
       "145459  2017-06-25    Uluru     14.9      NaN       0.0         NaN   \n",
       "\n",
       "        WindGustSpeed WindDir9am WindDir3pm  WindSpeed9am  WindSpeed3pm  \\\n",
       "0                44.0          W        WNW          20.0          24.0   \n",
       "1                44.0        NNW        WSW           4.0          22.0   \n",
       "2                46.0          W        WSW          19.0          26.0   \n",
       "3                24.0         SE          E          11.0           9.0   \n",
       "4                41.0        ENE         NW           7.0          20.0   \n",
       "...               ...        ...        ...           ...           ...   \n",
       "145455           31.0         SE        ENE          13.0          11.0   \n",
       "145456           22.0         SE          N          13.0           9.0   \n",
       "145457           37.0         SE        WNW           9.0           9.0   \n",
       "145458           28.0        SSE          N          13.0           7.0   \n",
       "145459            NaN        ESE        ESE          17.0          17.0   \n",
       "\n",
       "        Humidity9am  Humidity3pm  Pressure9am  Pressure3pm  Temp9am  Temp3pm  \\\n",
       "0              71.0         22.0       1007.7       1007.1     16.9     21.8   \n",
       "1              44.0         25.0       1010.6       1007.8     17.2     24.3   \n",
       "2              38.0         30.0       1007.6       1008.7     21.0     23.2   \n",
       "3              45.0         16.0       1017.6       1012.8     18.1     26.5   \n",
       "4              82.0         33.0       1010.8       1006.0     17.8     29.7   \n",
       "...             ...          ...          ...          ...      ...      ...   \n",
       "145455         51.0         24.0       1024.6       1020.3     10.1     22.4   \n",
       "145456         56.0         21.0       1023.5       1019.1     10.9     24.5   \n",
       "145457         53.0         24.0       1021.0       1016.8     12.5     26.1   \n",
       "145458         51.0         24.0       1019.4       1016.5     15.1     26.0   \n",
       "145459         62.0         36.0       1020.2       1017.9     15.0     20.9   \n",
       "\n",
       "       RainToday  \n",
       "0             No  \n",
       "1             No  \n",
       "2             No  \n",
       "3             No  \n",
       "4             No  \n",
       "...          ...  \n",
       "145455        No  \n",
       "145456        No  \n",
       "145457        No  \n",
       "145458        No  \n",
       "145459        No  \n",
       "\n",
       "[145460 rows x 18 columns]"
      ]
     },
     "execution_count": 46,
     "metadata": {},
     "output_type": "execute_result"
    }
   ],
   "source": [
    "x"
   ]
  },
  {
   "cell_type": "markdown",
   "metadata": {},
   "source": [
    "Zmienne kategoryczne: WindGustDir, WindDir9am, WindDir3pm, RainToday, RainTomorrow\n",
    "\n",
    "Zmienne numeryczne: MinTemp, MaxTemp, Rainfall, WindGustSpeed, WindSpeed9am, WindSpeed3pm, Humidity9am, Humidity3pm, Pressure9am, Pressure3pm, Temp9am, Temp3pm "
   ]
  },
  {
   "cell_type": "markdown",
   "metadata": {},
   "source": [
    "Wypełnianie danych numerycznych średnią."
   ]
  },
  {
   "cell_type": "code",
   "execution_count": 47,
   "metadata": {},
   "outputs": [],
   "source": [
    "numerical = ['MinTemp', 'MaxTemp', 'Rainfall', 'WindGustSpeed', 'WindSpeed9am', 'WindSpeed3pm', 'Humidity9am', 'Humidity3pm', 'Pressure9am', 'Pressure3pm', 'Temp9am', 'Temp3pm']\n",
    "\n",
    "for col in numerical:\n",
    "    x[col].fillna(x[col].mean(), inplace=True)"
   ]
  },
  {
   "cell_type": "markdown",
   "metadata": {},
   "source": [
    "Wypełnianie danych kategorycznych medianą."
   ]
  },
  {
   "cell_type": "code",
   "execution_count": 48,
   "metadata": {},
   "outputs": [],
   "source": [
    "categorical = ['WindGustDir', 'WindDir9am', 'WindDir3pm', 'RainToday']\n",
    "\n",
    "for col in categorical:\n",
    "    x[col] = x[col].fillna(x[col].mode()[0], inplace=False)"
   ]
  },
  {
   "cell_type": "code",
   "execution_count": 49,
   "metadata": {},
   "outputs": [],
   "source": [
    "y.fillna(y.mode()[0], inplace=True)"
   ]
  },
  {
   "cell_type": "markdown",
   "metadata": {},
   "source": [
    "Winsoryzacja wartości"
   ]
  },
  {
   "cell_type": "code",
   "execution_count": 50,
   "metadata": {},
   "outputs": [
    {
     "data": {
      "text/plain": [
       "array([ 9.1, 10.2,  1. , 15. , 12. , 11. , 26. , 28. ,  8.3,  8.3,  9.2,\n",
       "        9.5])"
      ]
     },
     "execution_count": 50,
     "metadata": {},
     "output_type": "execute_result"
    }
   ],
   "source": [
    "Q1 = np.quantile(x[numerical], 0.25, axis=0)\n",
    "Q2 = np.quantile(x[numerical], 0.5, axis=0)\n",
    "Q3 = np.quantile(x[numerical], 0.75, axis=0)\n",
    "\n",
    "\n",
    "IQR = Q3-Q1\n",
    "IQR"
   ]
  },
  {
   "cell_type": "code",
   "execution_count": 51,
   "metadata": {},
   "outputs": [],
   "source": [
    "lower_limit = Q2-1.5*IQR\n",
    "upper_limit = Q2+1.5*IQR"
   ]
  },
  {
   "cell_type": "code",
   "execution_count": 52,
   "metadata": {},
   "outputs": [],
   "source": [
    "for i in range(len(numerical)):\n",
    "    x[numerical[i]] = np.clip(x[numerical[i]], lower_limit[i], upper_limit[i])"
   ]
  },
  {
   "cell_type": "markdown",
   "metadata": {},
   "source": [
    "Kodowanie one-hot zmiennych kategorycznych"
   ]
  },
  {
   "cell_type": "markdown",
   "metadata": {},
   "source": [
    "Zamiana zmiennej data na sam miesiąc, aby można jej było użyć w modelu."
   ]
  },
  {
   "cell_type": "code",
   "execution_count": 53,
   "metadata": {},
   "outputs": [
    {
     "data": {
      "text/html": [
       "<div>\n",
       "<style scoped>\n",
       "    .dataframe tbody tr th:only-of-type {\n",
       "        vertical-align: middle;\n",
       "    }\n",
       "\n",
       "    .dataframe tbody tr th {\n",
       "        vertical-align: top;\n",
       "    }\n",
       "\n",
       "    .dataframe thead th {\n",
       "        text-align: right;\n",
       "    }\n",
       "</style>\n",
       "<table border=\"1\" class=\"dataframe\">\n",
       "  <thead>\n",
       "    <tr style=\"text-align: right;\">\n",
       "      <th></th>\n",
       "      <th>Date</th>\n",
       "      <th>Location</th>\n",
       "      <th>MinTemp</th>\n",
       "      <th>MaxTemp</th>\n",
       "      <th>Rainfall</th>\n",
       "      <th>WindGustDir</th>\n",
       "      <th>WindGustSpeed</th>\n",
       "      <th>WindDir9am</th>\n",
       "      <th>WindDir3pm</th>\n",
       "      <th>WindSpeed9am</th>\n",
       "      <th>WindSpeed3pm</th>\n",
       "      <th>Humidity9am</th>\n",
       "      <th>Humidity3pm</th>\n",
       "      <th>Pressure9am</th>\n",
       "      <th>Pressure3pm</th>\n",
       "      <th>Temp9am</th>\n",
       "      <th>Temp3pm</th>\n",
       "      <th>RainToday</th>\n",
       "      <th>Month</th>\n",
       "    </tr>\n",
       "  </thead>\n",
       "  <tbody>\n",
       "    <tr>\n",
       "      <th>0</th>\n",
       "      <td>2008-12-01</td>\n",
       "      <td>Albury</td>\n",
       "      <td>13.4</td>\n",
       "      <td>22.900000</td>\n",
       "      <td>0.6</td>\n",
       "      <td>W</td>\n",
       "      <td>44.00000</td>\n",
       "      <td>W</td>\n",
       "      <td>WNW</td>\n",
       "      <td>20.0</td>\n",
       "      <td>24.0</td>\n",
       "      <td>71.0</td>\n",
       "      <td>22.0</td>\n",
       "      <td>1007.7</td>\n",
       "      <td>1007.1</td>\n",
       "      <td>16.9</td>\n",
       "      <td>21.8</td>\n",
       "      <td>No</td>\n",
       "      <td>12</td>\n",
       "    </tr>\n",
       "    <tr>\n",
       "      <th>1</th>\n",
       "      <td>2008-12-02</td>\n",
       "      <td>Albury</td>\n",
       "      <td>7.4</td>\n",
       "      <td>25.100000</td>\n",
       "      <td>0.0</td>\n",
       "      <td>WNW</td>\n",
       "      <td>44.00000</td>\n",
       "      <td>NNW</td>\n",
       "      <td>WSW</td>\n",
       "      <td>4.0</td>\n",
       "      <td>22.0</td>\n",
       "      <td>44.0</td>\n",
       "      <td>25.0</td>\n",
       "      <td>1010.6</td>\n",
       "      <td>1007.8</td>\n",
       "      <td>17.2</td>\n",
       "      <td>24.3</td>\n",
       "      <td>No</td>\n",
       "      <td>12</td>\n",
       "    </tr>\n",
       "    <tr>\n",
       "      <th>2</th>\n",
       "      <td>2008-12-03</td>\n",
       "      <td>Albury</td>\n",
       "      <td>12.9</td>\n",
       "      <td>25.700000</td>\n",
       "      <td>0.0</td>\n",
       "      <td>WSW</td>\n",
       "      <td>46.00000</td>\n",
       "      <td>W</td>\n",
       "      <td>WSW</td>\n",
       "      <td>19.0</td>\n",
       "      <td>26.0</td>\n",
       "      <td>38.0</td>\n",
       "      <td>30.0</td>\n",
       "      <td>1007.6</td>\n",
       "      <td>1008.7</td>\n",
       "      <td>21.0</td>\n",
       "      <td>23.2</td>\n",
       "      <td>No</td>\n",
       "      <td>12</td>\n",
       "    </tr>\n",
       "    <tr>\n",
       "      <th>3</th>\n",
       "      <td>2008-12-04</td>\n",
       "      <td>Albury</td>\n",
       "      <td>9.2</td>\n",
       "      <td>28.000000</td>\n",
       "      <td>0.0</td>\n",
       "      <td>NE</td>\n",
       "      <td>24.00000</td>\n",
       "      <td>SE</td>\n",
       "      <td>E</td>\n",
       "      <td>11.0</td>\n",
       "      <td>9.0</td>\n",
       "      <td>45.0</td>\n",
       "      <td>16.0</td>\n",
       "      <td>1017.6</td>\n",
       "      <td>1012.8</td>\n",
       "      <td>18.1</td>\n",
       "      <td>26.5</td>\n",
       "      <td>No</td>\n",
       "      <td>12</td>\n",
       "    </tr>\n",
       "    <tr>\n",
       "      <th>4</th>\n",
       "      <td>2008-12-05</td>\n",
       "      <td>Albury</td>\n",
       "      <td>17.5</td>\n",
       "      <td>32.300000</td>\n",
       "      <td>1.0</td>\n",
       "      <td>W</td>\n",
       "      <td>41.00000</td>\n",
       "      <td>ENE</td>\n",
       "      <td>NW</td>\n",
       "      <td>7.0</td>\n",
       "      <td>20.0</td>\n",
       "      <td>82.0</td>\n",
       "      <td>33.0</td>\n",
       "      <td>1010.8</td>\n",
       "      <td>1006.0</td>\n",
       "      <td>17.8</td>\n",
       "      <td>29.7</td>\n",
       "      <td>No</td>\n",
       "      <td>12</td>\n",
       "    </tr>\n",
       "    <tr>\n",
       "      <th>...</th>\n",
       "      <td>...</td>\n",
       "      <td>...</td>\n",
       "      <td>...</td>\n",
       "      <td>...</td>\n",
       "      <td>...</td>\n",
       "      <td>...</td>\n",
       "      <td>...</td>\n",
       "      <td>...</td>\n",
       "      <td>...</td>\n",
       "      <td>...</td>\n",
       "      <td>...</td>\n",
       "      <td>...</td>\n",
       "      <td>...</td>\n",
       "      <td>...</td>\n",
       "      <td>...</td>\n",
       "      <td>...</td>\n",
       "      <td>...</td>\n",
       "      <td>...</td>\n",
       "      <td>...</td>\n",
       "    </tr>\n",
       "    <tr>\n",
       "      <th>145455</th>\n",
       "      <td>2017-06-21</td>\n",
       "      <td>Uluru</td>\n",
       "      <td>2.8</td>\n",
       "      <td>23.400000</td>\n",
       "      <td>0.0</td>\n",
       "      <td>E</td>\n",
       "      <td>31.00000</td>\n",
       "      <td>SE</td>\n",
       "      <td>ENE</td>\n",
       "      <td>13.0</td>\n",
       "      <td>11.0</td>\n",
       "      <td>51.0</td>\n",
       "      <td>24.0</td>\n",
       "      <td>1024.6</td>\n",
       "      <td>1020.3</td>\n",
       "      <td>10.1</td>\n",
       "      <td>22.4</td>\n",
       "      <td>No</td>\n",
       "      <td>06</td>\n",
       "    </tr>\n",
       "    <tr>\n",
       "      <th>145456</th>\n",
       "      <td>2017-06-22</td>\n",
       "      <td>Uluru</td>\n",
       "      <td>3.6</td>\n",
       "      <td>25.300000</td>\n",
       "      <td>0.0</td>\n",
       "      <td>NNW</td>\n",
       "      <td>22.00000</td>\n",
       "      <td>SE</td>\n",
       "      <td>N</td>\n",
       "      <td>13.0</td>\n",
       "      <td>9.0</td>\n",
       "      <td>56.0</td>\n",
       "      <td>21.0</td>\n",
       "      <td>1023.5</td>\n",
       "      <td>1019.1</td>\n",
       "      <td>10.9</td>\n",
       "      <td>24.5</td>\n",
       "      <td>No</td>\n",
       "      <td>06</td>\n",
       "    </tr>\n",
       "    <tr>\n",
       "      <th>145457</th>\n",
       "      <td>2017-06-23</td>\n",
       "      <td>Uluru</td>\n",
       "      <td>5.4</td>\n",
       "      <td>26.900000</td>\n",
       "      <td>0.0</td>\n",
       "      <td>N</td>\n",
       "      <td>37.00000</td>\n",
       "      <td>SE</td>\n",
       "      <td>WNW</td>\n",
       "      <td>9.0</td>\n",
       "      <td>9.0</td>\n",
       "      <td>53.0</td>\n",
       "      <td>24.0</td>\n",
       "      <td>1021.0</td>\n",
       "      <td>1016.8</td>\n",
       "      <td>12.5</td>\n",
       "      <td>26.1</td>\n",
       "      <td>No</td>\n",
       "      <td>06</td>\n",
       "    </tr>\n",
       "    <tr>\n",
       "      <th>145458</th>\n",
       "      <td>2017-06-24</td>\n",
       "      <td>Uluru</td>\n",
       "      <td>7.8</td>\n",
       "      <td>27.000000</td>\n",
       "      <td>0.0</td>\n",
       "      <td>SE</td>\n",
       "      <td>28.00000</td>\n",
       "      <td>SSE</td>\n",
       "      <td>N</td>\n",
       "      <td>13.0</td>\n",
       "      <td>7.0</td>\n",
       "      <td>51.0</td>\n",
       "      <td>24.0</td>\n",
       "      <td>1019.4</td>\n",
       "      <td>1016.5</td>\n",
       "      <td>15.1</td>\n",
       "      <td>26.0</td>\n",
       "      <td>No</td>\n",
       "      <td>06</td>\n",
       "    </tr>\n",
       "    <tr>\n",
       "      <th>145459</th>\n",
       "      <td>2017-06-25</td>\n",
       "      <td>Uluru</td>\n",
       "      <td>14.9</td>\n",
       "      <td>23.221348</td>\n",
       "      <td>0.0</td>\n",
       "      <td>W</td>\n",
       "      <td>40.03523</td>\n",
       "      <td>ESE</td>\n",
       "      <td>ESE</td>\n",
       "      <td>17.0</td>\n",
       "      <td>17.0</td>\n",
       "      <td>62.0</td>\n",
       "      <td>36.0</td>\n",
       "      <td>1020.2</td>\n",
       "      <td>1017.9</td>\n",
       "      <td>15.0</td>\n",
       "      <td>20.9</td>\n",
       "      <td>No</td>\n",
       "      <td>06</td>\n",
       "    </tr>\n",
       "  </tbody>\n",
       "</table>\n",
       "<p>145460 rows × 19 columns</p>\n",
       "</div>"
      ],
      "text/plain": [
       "              Date Location  MinTemp    MaxTemp  Rainfall WindGustDir  \\\n",
       "0       2008-12-01   Albury     13.4  22.900000       0.6           W   \n",
       "1       2008-12-02   Albury      7.4  25.100000       0.0         WNW   \n",
       "2       2008-12-03   Albury     12.9  25.700000       0.0         WSW   \n",
       "3       2008-12-04   Albury      9.2  28.000000       0.0          NE   \n",
       "4       2008-12-05   Albury     17.5  32.300000       1.0           W   \n",
       "...            ...      ...      ...        ...       ...         ...   \n",
       "145455  2017-06-21    Uluru      2.8  23.400000       0.0           E   \n",
       "145456  2017-06-22    Uluru      3.6  25.300000       0.0         NNW   \n",
       "145457  2017-06-23    Uluru      5.4  26.900000       0.0           N   \n",
       "145458  2017-06-24    Uluru      7.8  27.000000       0.0          SE   \n",
       "145459  2017-06-25    Uluru     14.9  23.221348       0.0           W   \n",
       "\n",
       "        WindGustSpeed WindDir9am WindDir3pm  WindSpeed9am  WindSpeed3pm  \\\n",
       "0            44.00000          W        WNW          20.0          24.0   \n",
       "1            44.00000        NNW        WSW           4.0          22.0   \n",
       "2            46.00000          W        WSW          19.0          26.0   \n",
       "3            24.00000         SE          E          11.0           9.0   \n",
       "4            41.00000        ENE         NW           7.0          20.0   \n",
       "...               ...        ...        ...           ...           ...   \n",
       "145455       31.00000         SE        ENE          13.0          11.0   \n",
       "145456       22.00000         SE          N          13.0           9.0   \n",
       "145457       37.00000         SE        WNW           9.0           9.0   \n",
       "145458       28.00000        SSE          N          13.0           7.0   \n",
       "145459       40.03523        ESE        ESE          17.0          17.0   \n",
       "\n",
       "        Humidity9am  Humidity3pm  Pressure9am  Pressure3pm  Temp9am  Temp3pm  \\\n",
       "0              71.0         22.0       1007.7       1007.1     16.9     21.8   \n",
       "1              44.0         25.0       1010.6       1007.8     17.2     24.3   \n",
       "2              38.0         30.0       1007.6       1008.7     21.0     23.2   \n",
       "3              45.0         16.0       1017.6       1012.8     18.1     26.5   \n",
       "4              82.0         33.0       1010.8       1006.0     17.8     29.7   \n",
       "...             ...          ...          ...          ...      ...      ...   \n",
       "145455         51.0         24.0       1024.6       1020.3     10.1     22.4   \n",
       "145456         56.0         21.0       1023.5       1019.1     10.9     24.5   \n",
       "145457         53.0         24.0       1021.0       1016.8     12.5     26.1   \n",
       "145458         51.0         24.0       1019.4       1016.5     15.1     26.0   \n",
       "145459         62.0         36.0       1020.2       1017.9     15.0     20.9   \n",
       "\n",
       "       RainToday Month  \n",
       "0             No    12  \n",
       "1             No    12  \n",
       "2             No    12  \n",
       "3             No    12  \n",
       "4             No    12  \n",
       "...          ...   ...  \n",
       "145455        No    06  \n",
       "145456        No    06  \n",
       "145457        No    06  \n",
       "145458        No    06  \n",
       "145459        No    06  \n",
       "\n",
       "[145460 rows x 19 columns]"
      ]
     },
     "execution_count": 53,
     "metadata": {},
     "output_type": "execute_result"
    }
   ],
   "source": [
    "x['Month'] = x['Date'].apply(lambda x: x[5:7])\n",
    "x"
   ]
  },
  {
   "cell_type": "code",
   "execution_count": 54,
   "metadata": {},
   "outputs": [],
   "source": [
    "x_encoded = pd.get_dummies(x, columns=categorical+['Month'], drop_first=True)"
   ]
  },
  {
   "cell_type": "code",
   "execution_count": 55,
   "metadata": {},
   "outputs": [],
   "source": [
    "y_encoded = pd.get_dummies(y)\n",
    "y_encoded.drop(columns='No', inplace=True)"
   ]
  },
  {
   "cell_type": "code",
   "execution_count": 56,
   "metadata": {},
   "outputs": [
    {
     "data": {
      "text/plain": [
       "Yes\n",
       "0      113583\n",
       "1       31877\n",
       "dtype: int64"
      ]
     },
     "execution_count": 56,
     "metadata": {},
     "output_type": "execute_result"
    }
   ],
   "source": [
    "y_encoded.value_counts()"
   ]
  },
  {
   "cell_type": "markdown",
   "metadata": {},
   "source": [
    "Podział danych na zbiór testowy i treningowy ze stratyfikacją"
   ]
  },
  {
   "cell_type": "code",
   "execution_count": 57,
   "metadata": {},
   "outputs": [],
   "source": [
    "podzial_train = dict()\n",
    "podzial_test = dict()\n",
    "\n",
    "for loc in x_encoded['Location'].unique():\n",
    "    x_train, x_test, y_train, y_test = train_test_split(x_encoded[x_encoded['Location']==loc], y_encoded[x_encoded['Location']==loc], random_state=254448, stratify=y_encoded[x_encoded['Location']==loc])\n",
    "    podzial_train[loc] = [x_train.drop(columns=['Location', 'Date']), y_train]\n",
    "    podzial_test[loc] = [x_test.drop(columns=['Location', 'Date']), y_test]\n",
    "    \n"
   ]
  },
  {
   "cell_type": "markdown",
   "metadata": {},
   "source": [
    "Normalizacja danych"
   ]
  },
  {
   "cell_type": "code",
   "execution_count": 58,
   "metadata": {},
   "outputs": [],
   "source": [
    "for loc in x_encoded['Location'].unique():\n",
    "    min_max_scaler = MinMaxScaler()\n",
    "    podzial_train[loc][0] = min_max_scaler.fit_transform(podzial_train[loc][0])\n",
    "    podzial_test[loc][0] = min_max_scaler.transform(podzial_test[loc][0])"
   ]
  },
  {
   "cell_type": "markdown",
   "metadata": {},
   "source": [
    "Nauka klasyfikatorów"
   ]
  },
  {
   "cell_type": "code",
   "execution_count": 59,
   "metadata": {},
   "outputs": [
    {
     "data": {
      "text/plain": [
       "['Uluru', 0.9417721518987342]"
      ]
     },
     "execution_count": 59,
     "metadata": {},
     "output_type": "execute_result"
    }
   ],
   "source": [
    "podzial_log = dict()\n",
    "recall_list = []\n",
    "acc_list = []\n",
    "balanced = []\n",
    "\n",
    "for loc in x_encoded['Location'].unique():\n",
    "    log_locations = LogisticRegression(random_state=254448)\n",
    "    log_locations.fit(podzial_train[loc][0], podzial_train[loc][1])\n",
    "    podzial_log[loc] = log_locations\n",
    "    y_pred_loc = log_locations.predict(podzial_test[loc][0])\n",
    "    acc_list.append([loc, accuracy_score(podzial_test[loc][1], y_pred_loc)])\n",
    "    recall_list.append([loc, recall_score(podzial_test[loc][1], y_pred_loc)])\n",
    "    balanced.append([loc, balanced_accuracy_score(podzial_test[loc][1], y_pred_loc)])\n",
    "    #print(loc, ':', accuracy_score(podzial_test[loc][1], y_pred_loc))\n",
    "    \n",
    "acc_list.sort(key=lambda x: x[1], reverse=True)\n",
    "acc_list[0]\n"
   ]
  },
  {
   "cell_type": "code",
   "execution_count": 60,
   "metadata": {},
   "outputs": [
    {
     "data": {
      "text/plain": [
       "['Witchcliffe', 0.740909090909091]"
      ]
     },
     "execution_count": 60,
     "metadata": {},
     "output_type": "execute_result"
    }
   ],
   "source": [
    "recall_list.sort(key=lambda x: x[1], reverse=True)\n",
    "recall_list[0]"
   ]
  },
  {
   "cell_type": "code",
   "execution_count": 61,
   "metadata": {},
   "outputs": [
    {
     "data": {
      "text/plain": [
       "['Witchcliffe', 0.8404357837284666]"
      ]
     },
     "execution_count": 61,
     "metadata": {},
     "output_type": "execute_result"
    }
   ],
   "source": [
    "balanced.sort(key=lambda x: x[1], reverse=True)\n",
    "balanced[0]"
   ]
  },
  {
   "cell_type": "markdown",
   "metadata": {},
   "source": [
    "Najwyższy wskaźnik balanced accuracy na zbiorze uzyskał klasyfikator nauczony na danych pogodowych z Witchcliffe."
   ]
  },
  {
   "cell_type": "markdown",
   "metadata": {},
   "source": [
    "### Porównanie własnej implementacji dla danych pogodowych z Witchcliffe."
   ]
  },
  {
   "cell_type": "code",
   "execution_count": 62,
   "metadata": {},
   "outputs": [
    {
     "name": "stdout",
     "output_type": "stream",
     "text": [
      "0 : 7.520643278978894\n",
      "10000 : 7.51203807250399\n",
      "20000 : 7.503440539698767\n",
      "30000 : 7.494652522734828\n",
      "40000 : 7.485845089318089\n",
      "50000 : 7.476885040023678\n",
      "60000 : 7.4678042714752095\n",
      "70000 : 7.458639740636438\n",
      "80000 : 7.449305205190621\n",
      "90000 : 7.439896885309437\n",
      "100000 : 7.430341769515616\n",
      "110000 : 7.420735916022155\n",
      "120000 : 7.4109150662423895\n",
      "130000 : 7.401020710812999\n",
      "140000 : 7.390983446830455\n",
      "150000 : 7.380740916955445\n",
      "160000 : 7.370423049472801\n",
      "170000 : 7.359924360909308\n",
      "180000 : 7.349352387429433\n",
      "190000 : 7.338518319929419\n",
      "200000 : 7.327625612794141\n",
      "210000 : 7.316528225473641\n",
      "220000 : 7.305188659737308\n",
      "230000 : 7.293753673458672\n",
      "240000 : 7.282074032461378\n",
      "250000 : 7.270321150176987\n",
      "260000 : 7.258273211836362\n",
      "270000 : 7.246117860525322\n",
      "280000 : 7.2337163898050045\n",
      "290000 : 7.221036198712174\n",
      "300000 : 7.208219478564454\n",
      "310000 : 7.1950743940470785\n",
      "320000 : 7.18182884912189\n",
      "330000 : 7.168210233331677\n",
      "340000 : 7.154465584080852\n",
      "350000 : 7.140418019919273\n",
      "360000 : 7.126041958476894\n",
      "370000 : 7.111472809221817\n",
      "380000 : 7.0964457294429\n",
      "390000 : 7.081302917458156\n",
      "400000 : 7.065678436897876\n",
      "410000 : 7.049868374853498\n",
      "420000 : 7.033632720061598\n",
      "430000 : 7.01703771576816\n",
      "440000 : 7.000078236691127\n",
      "450000 : 6.982636203798345\n",
      "460000 : 6.964854840899165\n",
      "470000 : 6.9465845805956885\n",
      "480000 : 6.927990945623388\n",
      "490000 : 6.908721006990429\n",
      "500000 : 6.889076910879741\n",
      "510000 : 6.868875903200397\n",
      "520000 : 6.847964374703608\n",
      "530000 : 6.826584105116095\n",
      "540000 : 6.804454968654541\n",
      "550000 : 6.78187442465602\n",
      "560000 : 6.758302620288697\n",
      "570000 : 6.734186414972218\n",
      "580000 : 6.709148516901393\n",
      "590000 : 6.6830933599169855\n",
      "600000 : 6.656265213480318\n",
      "610000 : 6.628223378681748\n",
      "620000 : 6.59937652080832\n",
      "630000 : 6.569106438584161\n",
      "640000 : 6.537751199562939\n",
      "650000 : 6.504866457717323\n",
      "660000 : 6.470291422072792\n",
      "670000 : 6.434229200479047\n",
      "680000 : 6.396028869454748\n",
      "690000 : 6.356097240006995\n",
      "700000 : 6.313499003131625\n",
      "710000 : 6.268699820782521\n",
      "720000 : 6.220748048881913\n",
      "730000 : 6.169375360004349\n",
      "740000 : 6.114395653949788\n",
      "750000 : 6.054373315411837\n",
      "760000 : 5.989665799860435\n",
      "770000 : 5.918055929793146\n",
      "780000 : 5.839358145343913\n",
      "790000 : 5.750529246664221\n",
      "800000 : 5.649906926299825\n",
      "810000 : 5.532878985741879\n",
      "820000 : 5.392736657983062\n",
      "830000 : 5.219900013380123\n",
      "840000 : 4.99189511759394\n",
      "850000 : 4.660365297899611\n",
      "860000 : 4.020430354107094\n",
      "870000 : 0.48294392897610183\n",
      "0.48294392897610183\n"
     ]
    },
    {
     "data": {
      "text/plain": [
       "array([-1.78697914, -0.21902419, -0.19056279,  0.2919831 , -0.12955231,\n",
       "       -0.0940545 , -0.30234245, -0.48162826, -0.31887876, -0.6476205 ,\n",
       "       -0.70467454, -0.27833534, -0.28917693,  0.90277633,  0.92051553,\n",
       "        0.83905114,  0.93880867,  0.9147055 ,  1.00544517,  0.97793082,\n",
       "        0.68876145,  0.79031342,  0.28580829,  0.77618308,  0.79079848,\n",
       "        0.80626812,  0.8980519 ,  0.83554559,  0.84428998,  0.74177816,\n",
       "        0.66543174,  0.88520767,  0.89049768,  0.9815212 ,  0.9774189 ,\n",
       "        0.82651946,  0.59529663,  0.78853674,  0.8475569 ,  0.86665477,\n",
       "        0.94342375,  0.95499348,  0.92536282,  0.93877212,  0.90665703,\n",
       "        0.95969795,  0.95628888,  0.92298261,  0.98127756,  0.96576429,\n",
       "        0.69158619,  0.75497366,  0.30759192,  0.74296226,  0.74046376,\n",
       "        0.82020827,  0.91652085,  0.79457021,  0.43498   ,  0.79627158,\n",
       "        0.74693095,  0.78500423,  0.73984607,  0.83405436,  0.87642433,\n",
       "        0.84646733,  0.81110316,  0.77634077,  0.73075282,  0.75521042])"
      ]
     },
     "execution_count": 62,
     "metadata": {},
     "output_type": "execute_result"
    }
   ],
   "source": [
    "log_reg_witch = LogisticRegressionImplementation()\n",
    "x_locc = podzial_train['Witchcliffe'][0]\n",
    "y_locc = podzial_train['Witchcliffe'][1]\n",
    "log_reg_witch.fit(x_locc, y_locc['Yes'].values.tolist(), error=0.682)"
   ]
  },
  {
   "cell_type": "code",
   "execution_count": 63,
   "metadata": {},
   "outputs": [],
   "source": [
    "x_testtt = podzial_test['Witchcliffe'][0]\n",
    "y_pred_witch_i = log_reg_witch.predict(x_testtt)"
   ]
  },
  {
   "cell_type": "code",
   "execution_count": 64,
   "metadata": {},
   "outputs": [
    {
     "name": "stdout",
     "output_type": "stream",
     "text": [
      "accuracy score dla własnej implementacji regresji logistycznej dla danych z Witchcliffe:\n"
     ]
    },
    {
     "data": {
      "text/plain": [
       "0.8233731739707836"
      ]
     },
     "execution_count": 64,
     "metadata": {},
     "output_type": "execute_result"
    }
   ],
   "source": [
    "print('accuracy score dla własnej implementacji regresji logistycznej dla danych z Witchcliffe:')\n",
    "accuracy_score(y_pred_witch_i, podzial_test['Witchcliffe'][1])"
   ]
  },
  {
   "cell_type": "code",
   "execution_count": 65,
   "metadata": {},
   "outputs": [
    {
     "data": {
      "text/plain": [
       "0.7101449275362319"
      ]
     },
     "execution_count": 65,
     "metadata": {},
     "output_type": "execute_result"
    }
   ],
   "source": [
    "recall_score(y_pred_witch_i, podzial_test['Witchcliffe'][1])"
   ]
  },
  {
   "cell_type": "code",
   "execution_count": 66,
   "metadata": {},
   "outputs": [
    {
     "data": {
      "image/png": "[encoded data removed]",
      "text/plain": [
       "<Figure size 432x288 with 2 Axes>"
      ]
     },
     "metadata": {
      "needs_background": "light"
     },
     "output_type": "display_data"
    }
   ],
   "source": [
    "cm_witch = confusion_matrix(podzial_test['Witchcliffe'][1], y_pred_witch_i)\n",
    "disp_witch = ConfusionMatrixDisplay(confusion_matrix=cm_witch)\n",
    "disp_witch.plot()\n",
    "\n",
    "specificity_witch = cm_witch[0][0]/(cm_witch[0][0]+cm_witch[0][1])"
   ]
  },
  {
   "cell_type": "code",
   "execution_count": 67,
   "metadata": {},
   "outputs": [
    {
     "data": {
      "text/plain": [
       "0.7778057308545114"
      ]
     },
     "execution_count": 67,
     "metadata": {},
     "output_type": "execute_result"
    }
   ],
   "source": [
    "balanced_accuracy_score(podzial_test['Witchcliffe'][1], y_pred_witch_i)"
   ]
  },
  {
   "cell_type": "markdown",
   "metadata": {},
   "source": [
    "Klasyfikator z sklearn lepiej radzi sobie z klasyfikacją na zbiorze pogody z Witchcliffe niż własna implementacja regresji logistycznej."
   ]
  },
  {
   "cell_type": "markdown",
   "metadata": {},
   "source": [
    "## Skuteczność modeli regionalnych na krajowym zbiorze testowym"
   ]
  },
  {
   "cell_type": "markdown",
   "metadata": {},
   "source": [
    "### Tworzenie krajowego zbioru testowego"
   ]
  },
  {
   "cell_type": "code",
   "execution_count": 68,
   "metadata": {},
   "outputs": [],
   "source": [
    "krajowy_zbior_x = podzial_test['Albury'][0]\n",
    "krajowy_zbior_y = podzial_test['Albury'][1]\n",
    "\n",
    "for loc in podzial_test.keys():\n",
    "    if loc == 'Albury':\n",
    "        continue\n",
    "    krajowy_zbior_x = np.vstack( (krajowy_zbior_x, podzial_test[loc][0]) )\n",
    "    krajowy_zbior_y = np.vstack( (krajowy_zbior_y, podzial_test[loc][1]) )"
   ]
  },
  {
   "cell_type": "markdown",
   "metadata": {},
   "source": [
    "### Testowanie modeli regionalnych"
   ]
  },
  {
   "cell_type": "code",
   "execution_count": 69,
   "metadata": {},
   "outputs": [
    {
     "data": {
      "text/plain": [
       "['BadgerysCreek', 0.82997141914917]"
      ]
     },
     "execution_count": 69,
     "metadata": {},
     "output_type": "execute_result"
    }
   ],
   "source": [
    "glob_acc = []\n",
    "glob_balanced = []\n",
    "glob_recall = []\n",
    "\n",
    "for loc in podzial_test.keys():\n",
    "    predykcje = podzial_log[loc].predict(krajowy_zbior_x)\n",
    "    glob_acc.append([loc, accuracy_score(krajowy_zbior_y, predykcje)])\n",
    "    glob_recall.append([loc, recall_score(krajowy_zbior_y, predykcje)])\n",
    "    glob_balanced.append([loc, balanced_accuracy_score(krajowy_zbior_y, predykcje)])\n",
    "    \n",
    "    \n",
    "glob_acc.sort(key=lambda x: x[1], reverse=True)\n",
    "glob_acc[0]"
   ]
  },
  {
   "cell_type": "code",
   "execution_count": 70,
   "metadata": {},
   "outputs": [
    {
     "data": {
      "text/plain": [
       "['NorfolkIsland', 0.6504075235109718]"
      ]
     },
     "execution_count": 70,
     "metadata": {},
     "output_type": "execute_result"
    }
   ],
   "source": [
    "glob_recall.sort(key=lambda x: x[1], reverse=True)\n",
    "glob_recall[0]"
   ]
  },
  {
   "cell_type": "code",
   "execution_count": 71,
   "metadata": {},
   "outputs": [
    {
     "data": {
      "text/plain": [
       "['Sydney', 0.7303125936767653]"
      ]
     },
     "execution_count": 71,
     "metadata": {},
     "output_type": "execute_result"
    }
   ],
   "source": [
    "glob_balanced.sort(key=lambda x: x[1], reverse=True)\n",
    "glob_balanced[0]"
   ]
  },
  {
   "cell_type": "markdown",
   "metadata": {},
   "source": [
    "Na zbiorze krajowym najlepiej poradził sobie klasyfikator lokalny trenowany na zbiorze pogody z regionu Sydney. Jest to model, który nie osiągnął najwyższej skuteczności lokalnej na zbiorze danych dla swojego regionu."
   ]
  },
  {
   "cell_type": "code",
   "execution_count": 72,
   "metadata": {},
   "outputs": [
    {
     "data": {
      "text/plain": [
       "0.8018852368912829"
      ]
     },
     "execution_count": 72,
     "metadata": {},
     "output_type": "execute_result"
    }
   ],
   "source": [
    "log_sid = podzial_log['Sydney']\n",
    "\n",
    "y_pred_sid = log_sid.predict(krajowy_zbior_x)\n",
    "accuracy_score(krajowy_zbior_y, y_pred_sid)"
   ]
  },
  {
   "cell_type": "code",
   "execution_count": 73,
   "metadata": {},
   "outputs": [
    {
     "data": {
      "text/plain": [
       "0.602884012539185"
      ]
     },
     "execution_count": 73,
     "metadata": {},
     "output_type": "execute_result"
    }
   ],
   "source": [
    "recall_score(krajowy_zbior_y, y_pred_sid)"
   ]
  },
  {
   "cell_type": "code",
   "execution_count": 74,
   "metadata": {},
   "outputs": [
    {
     "data": {
      "image/png": "[encoded data removed]",
      "text/plain": [
       "<Figure size 432x288 with 2 Axes>"
      ]
     },
     "metadata": {
      "needs_background": "light"
     },
     "output_type": "display_data"
    }
   ],
   "source": [
    "cm_sid = confusion_matrix(krajowy_zbior_y, y_pred_sid)\n",
    "disp_sid = ConfusionMatrixDisplay(confusion_matrix=cm_sid)\n",
    "disp_sid.plot()\n",
    "plt.show()"
   ]
  },
  {
   "cell_type": "markdown",
   "metadata": {},
   "source": [
    "### Wyniki dla DummyClassifier"
   ]
  },
  {
   "cell_type": "code",
   "execution_count": 75,
   "metadata": {},
   "outputs": [
    {
     "data": {
      "text/plain": [
       "0.7808343409915357"
      ]
     },
     "execution_count": 75,
     "metadata": {},
     "output_type": "execute_result"
    }
   ],
   "source": [
    "dummy = DummyClassifier()\n",
    "dummy.fit(podzial_train['Sydney'][0], podzial_train['Sydney'][1])\n",
    "y_pred_dummy = dummy.predict(krajowy_zbior_x)\n",
    "accuracy_score(krajowy_zbior_y, y_pred_dummy)"
   ]
  },
  {
   "cell_type": "code",
   "execution_count": 76,
   "metadata": {},
   "outputs": [
    {
     "data": {
      "text/plain": [
       "0.0"
      ]
     },
     "execution_count": 76,
     "metadata": {},
     "output_type": "execute_result"
    }
   ],
   "source": [
    "recall_score(krajowy_zbior_y, y_pred_dummy)"
   ]
  },
  {
   "cell_type": "code",
   "execution_count": 77,
   "metadata": {},
   "outputs": [
    {
     "data": {
      "text/plain": [
       "0.5"
      ]
     },
     "execution_count": 77,
     "metadata": {},
     "output_type": "execute_result"
    }
   ],
   "source": [
    "balanced_accuracy_score(krajowy_zbior_y, y_pred_dummy)"
   ]
  },
  {
   "cell_type": "markdown",
   "metadata": {},
   "source": [
    "Możemy zauważyć, że accuracy dla DummyClassifier jest bliskie accuracy dla klasyfikatora trenowanego na zbiorze z regionu Sydney. Wskazuje to, że DummyClassifier jest tylko niewiele gorszy od regresji logistycznej. Jest tak, ponieważ zbiór danych nie jest zbilansowany. Jednakże, regresja liniowa ma znacznie lepszy recall, a więc i również balanced_accuracy_score."
   ]
  },
  {
   "cell_type": "markdown",
   "metadata": {},
   "source": [
    "Budowanie modelu w oparciu o dane fragmentaryczne nie jest dobrym sposobem zmniejszenia wymaganej ilości danych uczących, ponieważ nie zawsze dane lokalne nie zawsze dobrze reprezentują zbiór 'globalny'."
   ]
  }
 ],
 "metadata": {
  "kernelspec": {
   "display_name": "Python 3",
   "language": "python",
   "name": "python3"
  },
  "language_info": {
   "codemirror_mode": {
    "name": "ipython",
    "version": 3
   },
   "file_extension": ".py",
   "mimetype": "text/x-python",
   "name": "python",
   "nbconvert_exporter": "python",
   "pygments_lexer": "ipython3",
   "version": "3.10.4"
  }
 },
 "nbformat": 4,
 "nbformat_minor": 2
}
