{
 "cells": [
  {
   "cell_type": "markdown",
   "metadata": {},
   "source": [
    "# Sieć neuronowa"
   ]
  },
  {
   "cell_type": "code",
   "execution_count": 1,
   "metadata": {},
   "outputs": [
    {
     "name": "stderr",
     "output_type": "stream",
     "text": [
      "c:\\Users\\Lidia\\AppData\\Local\\Programs\\Python\\Python310\\lib\\site-packages\\scipy\\__init__.py:155: UserWarning: A NumPy version >=1.18.5 and <1.25.0 is required for this version of SciPy (detected version 1.26.4\n",
      "  warnings.warn(f\"A NumPy version >={np_minversion} and <{np_maxversion}\"\n"
     ]
    }
   ],
   "source": [
    "import numpy as np\n",
    "from sklearn.datasets import make_blobs\n",
    "from sklearn.metrics import accuracy_score, confusion_matrix, ConfusionMatrixDisplay, recall_score, roc_curve, RocCurveDisplay, auc, balanced_accuracy_score\n",
    "from sklearn.model_selection import train_test_split\n",
    "import matplotlib.pyplot as plt\n",
    "import pandas as pd\n",
    "import time\n",
    "from sklearn.preprocessing import OneHotEncoder\n",
    "from keras.datasets import mnist\n",
    "from sklearn.preprocessing import MinMaxScaler"
   ]
  },
  {
   "cell_type": "code",
   "execution_count": 2,
   "metadata": {},
   "outputs": [],
   "source": [
    "def metrics(y_true, y_pred):\n",
    "    print('accuracy:', accuracy_score(y_true, y_pred))\n",
    "    cm = confusion_matrix(y_true, y_pred)\n",
    "    print('sensitivity:', recall_score(y_true, y_pred))\n",
    "    print('specificity:', cm[0][0]/(cm[0][0]+cm[0][1]))\n",
    "    disp = ConfusionMatrixDisplay(cm)\n",
    "    disp.plot()"
   ]
  },
  {
   "cell_type": "code",
   "execution_count": 3,
   "metadata": {},
   "outputs": [],
   "source": [
    "def surface(classifier, xi, yi):\n",
    "    minx, maxx = min(xi[:,0]), max(xi[:,0])\n",
    "    miny, maxy = min(xi[:,1]), max(xi[:,1])\n",
    "    x = np.linspace(minx, maxx, 1000)\n",
    "    y = np.linspace(miny, maxy, 1000)\n",
    "\n",
    "    X, Y = np.meshgrid(x,y)\n",
    "    Z = []\n",
    "\n",
    "    for i in range(len(X)):\n",
    "        for j in range(len(Y)):\n",
    "            Z.append(classifier.predict(np.array([X[i,j], Y[i,j]])).argmax(axis=0))\n",
    "\n",
    "                    \n",
    "    Z = np.reshape(Z, X.shape)\n",
    "        \n",
    "    plt.scatter(xi[yi==0,0], xi[yi==0,1], label='Klasa 0')\n",
    "    plt.scatter(xi[yi==1,0], xi[yi==1,1], label='Klasa 1')\n",
    "    plt.legend()\n",
    "    plt.contourf(X, Y, Z, alpha=0.3)\n",
    "    plt.show()"
   ]
  },
  {
   "cell_type": "markdown",
   "metadata": {},
   "source": [
    "## Generowanie zbioru\n"
   ]
  },
  {
   "cell_type": "code",
   "execution_count": 4,
   "metadata": {},
   "outputs": [],
   "source": [
    "x, y = make_blobs(random_state=254448, n_samples=2548, n_features=2, centers=6)\n",
    "\n",
    "#0,1,2 -> 0\n",
    "#3,4,5 -> 1\n",
    "y[np.isin(y, [0,1,2])] = 0\n",
    "y[np.isin(y, [3,4,5])] = 1\n",
    "\n",
    "\n",
    "x_train, x_test, y_train, y_test = train_test_split(x, y, random_state=254448, stratify=y)"
   ]
  },
  {
   "cell_type": "code",
   "execution_count": 5,
   "metadata": {},
   "outputs": [
    {
     "data": {
      "image/png": "[encoded data removed]",
      "text/plain": [
       "<Figure size 576x288 with 1 Axes>"
      ]
     },
     "metadata": {
      "needs_background": "light"
     },
     "output_type": "display_data"
    }
   ],
   "source": [
    "fig, ax1 = plt.subplots(1,1)\n",
    "fig.set_figheight(4)\n",
    "fig.set_figwidth(8)\n",
    "\n",
    "ax1.scatter(x[y==0,0], x[y==0,1])\n",
    "ax1.scatter(x[y==1,0], x[y==1,1])\n",
    "ax1.set_title('Zbiór z trzema klastrami na klasę')\n",
    "plt.show()"
   ]
  },
  {
   "cell_type": "markdown",
   "metadata": {},
   "source": [
    "## Implementacja sieci neuronowej"
   ]
  },
  {
   "cell_type": "code",
   "execution_count": 19,
   "metadata": {},
   "outputs": [],
   "source": [
    "class Layer:\n",
    "    def forward(self, x):\n",
    "        pass\n",
    "    \n",
    "    def backward(self, grad):\n",
    "        pass\n",
    "    \n",
    "    def adjust(self):\n",
    "        pass\n",
    "\n",
    "def MSE(targets, predicted):\n",
    "    return np.sum((targets - predicted) ** 2)\n",
    "\n",
    "def MSE_derivative(targets, predicted):\n",
    "    return 2 * (predicted - targets)\n",
    "\n",
    "class Linear(Layer):\n",
    "    def __init__(self, eta, input_size, output_size):\n",
    "        self.eta = eta\n",
    "        self.w = np.random.normal(0, 1, (input_size, output_size))\n",
    "        self.b = np.zeros((output_size))\n",
    "        \n",
    "    def forward(self, x):\n",
    "        self.x = x\n",
    "        #print(x @ self.w + self.b)\n",
    "        return x @ self.w + self.b\n",
    "    \n",
    "    def backward(self, grad):\n",
    "        self.grad = grad\n",
    "        #print(grad)\n",
    "        return grad @ self.w.T\n",
    "    \n",
    "    def adjust(self):\n",
    "        self.w -= self.eta * self.x.T @ self.grad\n",
    "        self.b -= self.eta * np.sum(self.grad, axis=0)\n",
    "\n",
    "class Activation(Layer):\n",
    "    def __init__(self, activation_function):\n",
    "        if activation_function == 'logistic':\n",
    "            self.fun = lambda s: 1 / (1 + np.exp(-s))\n",
    "            self.der = lambda s: self.fun(s) * (1 - self.fun(s))\n",
    "        elif activation_function == 'ReLu':\n",
    "            self.fun = lambda s: np.where(s > 0, s, 0)\n",
    "            self.der = lambda s: np.where(s > 0, 1, 0)\n",
    "        else:\n",
    "            raise Exception('Nieprawidlowa funkcja aktywacji')    \n",
    "            \n",
    "    def forward(self, s):\n",
    "        self.s = s\n",
    "        return self.fun(s)\n",
    "    \n",
    "    def backward(self, grad):\n",
    "        return self.der(self.s) * grad\n",
    "\n",
    "def transform_array(input_array):\n",
    "    unique_values = sorted(set(input_array))\n",
    "    value_to_index = {value: idx for idx, value in enumerate(unique_values)}\n",
    "    output_matrix = []\n",
    "    for value in input_array:\n",
    "        row = [0] * len(unique_values)\n",
    "        row[value_to_index[value]] = 1\n",
    "        output_matrix.append(row)\n",
    "    return np.array(output_matrix)\n",
    "\n",
    "class NeuralNetwork:\n",
    "    def __init__(self, layers):\n",
    "        self.layers = layers\n",
    "        \n",
    "    def forward(self, inputs):\n",
    "        for layer in self.layers:\n",
    "            inputs = layer.forward(inputs)\n",
    "        self.outputs = inputs\n",
    "        return inputs\n",
    "    \n",
    "    def backward(self, grad):\n",
    "        for layer in reversed(self.layers):\n",
    "            grad = layer.backward(grad)\n",
    "        return grad\n",
    "    \n",
    "    def adjust(self):\n",
    "        for layer in self.layers:\n",
    "            layer.adjust()\n",
    "    \n",
    "    def train(self, inputs, target, num_epoch=100, batch_size=64):\n",
    "        target = transform_array(target)\n",
    "\n",
    "        for epoch in range(num_epoch):\n",
    "            for start in range(0, len(target), batch_size):\n",
    "                end = start + batch_size\n",
    "                \n",
    "                batch_inputs = inputs[start:end]\n",
    "                batch_target = target[start:end]\n",
    "                \n",
    "                result = self.forward(batch_inputs)\n",
    "                error_der = MSE_derivative(batch_target, result)\n",
    "                self.backward(error_der)\n",
    "                self.adjust()\n",
    "            if epoch%10==9:    \n",
    "                mse = MSE(target, self.forward(inputs))\n",
    "                print(f'Epoch {epoch + 1}/{num_epoch}, MSE: {mse}')\n",
    "\n",
    "    def predict(self, x):\n",
    "        return self.forward(x)"
   ]
  },
  {
   "cell_type": "markdown",
   "metadata": {},
   "source": [
    "## Nauka na syntetycznym zbiorze wielomodowym"
   ]
  },
  {
   "cell_type": "code",
   "execution_count": 26,
   "metadata": {},
   "outputs": [
    {
     "name": "stdout",
     "output_type": "stream",
     "text": [
      "Epoch 10/100, MSE: 55.792810011943885\n",
      "Epoch 20/100, MSE: 27.615271690685233\n",
      "Epoch 30/100, MSE: 20.735945455995278\n",
      "Epoch 40/100, MSE: 11.61377047728838\n",
      "Epoch 50/100, MSE: 9.376447671887721\n",
      "Epoch 60/100, MSE: 6.748983541545532\n",
      "Epoch 70/100, MSE: 5.643042548998137\n",
      "Epoch 80/100, MSE: 4.89121227332818\n",
      "Epoch 90/100, MSE: 4.330576916010536\n",
      "Epoch 100/100, MSE: 3.9497310006658237\n"
     ]
    }
   ],
   "source": [
    "pierwsza = Linear(0.01, 2, 3)\n",
    "druga = Activation('ReLu')\n",
    "trzecia = Linear(0.01, 3, 2)\n",
    "czwarta = Activation('logistic')\n",
    "piata = Linear(0.01, 2, 2)\n",
    "szosta = Activation('logistic')\n",
    "\n",
    "siec = NeuralNetwork([pierwsza,druga,trzecia,czwarta,piata,szosta])\n",
    "\n",
    "siec.train(x_train, y_train, batch_size=128) "
   ]
  },
  {
   "cell_type": "code",
   "execution_count": 27,
   "metadata": {},
   "outputs": [
    {
     "data": {
      "text/plain": [
       "0.9921507064364207"
      ]
     },
     "execution_count": 27,
     "metadata": {},
     "output_type": "execute_result"
    }
   ],
   "source": [
    "accuracy_score(y_test, siec.predict(x_test).argmax(axis=1))"
   ]
  },
  {
   "cell_type": "code",
   "execution_count": 28,
   "metadata": {},
   "outputs": [
    {
     "name": "stdout",
     "output_type": "stream",
     "text": [
      "accuracy: 0.9921507064364207\n",
      "sensitivity: 0.9968553459119497\n",
      "specificity: 0.987460815047022\n"
     ]
    },
    {
     "data": {
      "image/png": "[encoded data removed]",
      "text/plain": [
       "<Figure size 432x288 with 2 Axes>"
      ]
     },
     "metadata": {
      "needs_background": "light"
     },
     "output_type": "display_data"
    }
   ],
   "source": [
    "metrics(y_test, siec.predict(x_test).argmax(axis=1))"
   ]
  },
  {
   "cell_type": "code",
   "execution_count": 29,
   "metadata": {},
   "outputs": [
    {
     "data": {
      "image/png": "[encoded data removed]",
      "text/plain": [
       "<Figure size 432x288 with 1 Axes>"
      ]
     },
     "metadata": {
      "needs_background": "light"
     },
     "output_type": "display_data"
    }
   ],
   "source": [
    "surface(siec, x, y)"
   ]
  },
  {
   "cell_type": "markdown",
   "metadata": {},
   "source": [
    "## Trening sieci na zbiorze MNIST"
   ]
  },
  {
   "cell_type": "code",
   "execution_count": 11,
   "metadata": {},
   "outputs": [],
   "source": [
    "(x_trainm, y_trainm), (x_testm, y_testm) = mnist.load_data()\n",
    "\n",
    "scaler = MinMaxScaler()"
   ]
  },
  {
   "cell_type": "code",
   "execution_count": 12,
   "metadata": {},
   "outputs": [],
   "source": [
    "x_trainm = np.array([i.flatten() for i in x_trainm])\n",
    "x_testm = np.array([i.flatten() for i in x_testm])\n",
    "\n",
    "x_trainm = scaler.fit_transform(x_trainm)\n",
    "x_testm = scaler.transform(x_testm)"
   ]
  },
  {
   "cell_type": "code",
   "execution_count": 34,
   "metadata": {},
   "outputs": [
    {
     "name": "stderr",
     "output_type": "stream",
     "text": [
      "C:\\Users\\Lidia\\AppData\\Local\\Temp\\ipykernel_11192\\3638883603.py:40: RuntimeWarning: overflow encountered in exp\n",
      "  self.fun = lambda s: 1 / (1 + np.exp(-s))\n"
     ]
    },
    {
     "name": "stdout",
     "output_type": "stream",
     "text": [
      "Epoch 10/100, MSE: 11415.426516922225\n",
      "Epoch 20/100, MSE: 11100.059144062272\n",
      "Epoch 30/100, MSE: 10267.974089285402\n",
      "Epoch 40/100, MSE: 9261.60085869767\n",
      "Epoch 50/100, MSE: 8129.256805264145\n",
      "Epoch 60/100, MSE: 9033.670993731577\n",
      "Epoch 70/100, MSE: 7143.5469149638475\n",
      "Epoch 80/100, MSE: 10174.331351063773\n",
      "Epoch 90/100, MSE: 8343.92851074924\n",
      "Epoch 100/100, MSE: 8147.741558072756\n"
     ]
    }
   ],
   "source": [
    "pierwsza = Linear(0.1, 784, 100)\n",
    "druga = Activation('ReLu')\n",
    "trzecia = Linear(0.1, 100, 10)\n",
    "czwarta = Activation('logistic')\n",
    "piata = Linear(0.1, 10, 10)\n",
    "szosta = Activation('logistic')\n",
    "\n",
    "siec_mnist = NeuralNetwork([pierwsza,druga,trzecia,czwarta,piata,szosta])\n",
    "\n",
    "siec_mnist.train(x_trainm, y_trainm, batch_size=128, num_epoch=100) "
   ]
  },
  {
   "cell_type": "code",
   "execution_count": 35,
   "metadata": {},
   "outputs": [
    {
     "name": "stderr",
     "output_type": "stream",
     "text": [
      "C:\\Users\\Lidia\\AppData\\Local\\Temp\\ipykernel_11192\\3638883603.py:40: RuntimeWarning: overflow encountered in exp\n",
      "  self.fun = lambda s: 1 / (1 + np.exp(-s))\n"
     ]
    },
    {
     "data": {
      "text/plain": [
       "0.9134"
      ]
     },
     "execution_count": 35,
     "metadata": {},
     "output_type": "execute_result"
    }
   ],
   "source": [
    "accuracy_score(y_testm, siec_mnist.predict(x_testm).argmax(axis=1))"
   ]
  },
  {
   "cell_type": "code",
   "execution_count": 36,
   "metadata": {},
   "outputs": [
    {
     "name": "stderr",
     "output_type": "stream",
     "text": [
      "C:\\Users\\Lidia\\AppData\\Local\\Temp\\ipykernel_11192\\3638883603.py:40: RuntimeWarning: overflow encountered in exp\n",
      "  self.fun = lambda s: 1 / (1 + np.exp(-s))\n"
     ]
    },
    {
     "name": "stdout",
     "output_type": "stream",
     "text": [
      "\n"
     ]
    },
    {
     "data": {
      "image/png": "[encoded data removed]",
      "text/plain": [
       "<Figure size 432x288 with 2 Axes>"
      ]
     },
     "metadata": {
      "needs_background": "light"
     },
     "output_type": "display_data"
    }
   ],
   "source": [
    "cm = confusion_matrix(y_testm, siec_mnist.predict(x_testm).argmax(axis=1))\n",
    "disp = ConfusionMatrixDisplay(cm)\n",
    "disp.plot()\n",
    "print('')"
   ]
  }
 ],
 "metadata": {
  "kernelspec": {
   "display_name": "Python 3",
   "language": "python",
   "name": "python3"
  },
  "language_info": {
   "codemirror_mode": {
    "name": "ipython",
    "version": 3
   },
   "file_extension": ".py",
   "mimetype": "text/x-python",
   "name": "python",
   "nbconvert_exporter": "python",
   "pygments_lexer": "ipython3",
   "version": "3.10.4"
  }
 },
 "nbformat": 4,
 "nbformat_minor": 2
}
